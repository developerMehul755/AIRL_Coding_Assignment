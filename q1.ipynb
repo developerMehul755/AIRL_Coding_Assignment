{
  "nbformat": 4,
  "nbformat_minor": 0,
  "metadata": {
    "colab": {
      "provenance": [],
      "gpuType": "T4"
    },
    "kernelspec": {
      "name": "python3",
      "display_name": "Python 3"
    },
    "language_info": {
      "name": "python"
    },
    "accelerator": "GPU",
    "widgets": {
      "application/vnd.jupyter.widget-state+json": {
        "ff99918cd93d4474acd9879134ba04cb": {
          "model_module": "@jupyter-widgets/controls",
          "model_name": "HBoxModel",
          "model_module_version": "1.5.0",
          "state": {
            "_dom_classes": [],
            "_model_module": "@jupyter-widgets/controls",
            "_model_module_version": "1.5.0",
            "_model_name": "HBoxModel",
            "_view_count": null,
            "_view_module": "@jupyter-widgets/controls",
            "_view_module_version": "1.5.0",
            "_view_name": "HBoxView",
            "box_style": "",
            "children": [
              "IPY_MODEL_a30892d2d61d43888c3108c207766997",
              "IPY_MODEL_971a3e1d992b48debb6455155929626f",
              "IPY_MODEL_b2194b1858b742d986a0e1ce75878d3e"
            ],
            "layout": "IPY_MODEL_6e02e2a1a2be4dea87508e1c7e4be996"
          }
        },
        "a30892d2d61d43888c3108c207766997": {
          "model_module": "@jupyter-widgets/controls",
          "model_name": "HTMLModel",
          "model_module_version": "1.5.0",
          "state": {
            "_dom_classes": [],
            "_model_module": "@jupyter-widgets/controls",
            "_model_module_version": "1.5.0",
            "_model_name": "HTMLModel",
            "_view_count": null,
            "_view_module": "@jupyter-widgets/controls",
            "_view_module_version": "1.5.0",
            "_view_name": "HTMLView",
            "description": "",
            "description_tooltip": null,
            "layout": "IPY_MODEL_df9cfd85fb17463f97e373bcfde8a7f0",
            "placeholder": "​",
            "style": "IPY_MODEL_f1bbfdc651f7434e9885d75aa68be7ac",
            "value": "100%"
          }
        },
        "971a3e1d992b48debb6455155929626f": {
          "model_module": "@jupyter-widgets/controls",
          "model_name": "FloatProgressModel",
          "model_module_version": "1.5.0",
          "state": {
            "_dom_classes": [],
            "_model_module": "@jupyter-widgets/controls",
            "_model_module_version": "1.5.0",
            "_model_name": "FloatProgressModel",
            "_view_count": null,
            "_view_module": "@jupyter-widgets/controls",
            "_view_module_version": "1.5.0",
            "_view_name": "ProgressView",
            "bar_style": "success",
            "description": "",
            "description_tooltip": null,
            "layout": "IPY_MODEL_3e07c408a2eb498aabc4ff0ae69ccca8",
            "max": 15,
            "min": 0,
            "orientation": "horizontal",
            "style": "IPY_MODEL_63bf16ad7f5b44ee9881cfca5d351676",
            "value": 15
          }
        },
        "b2194b1858b742d986a0e1ce75878d3e": {
          "model_module": "@jupyter-widgets/controls",
          "model_name": "HTMLModel",
          "model_module_version": "1.5.0",
          "state": {
            "_dom_classes": [],
            "_model_module": "@jupyter-widgets/controls",
            "_model_module_version": "1.5.0",
            "_model_name": "HTMLModel",
            "_view_count": null,
            "_view_module": "@jupyter-widgets/controls",
            "_view_module_version": "1.5.0",
            "_view_name": "HTMLView",
            "description": "",
            "description_tooltip": null,
            "layout": "IPY_MODEL_93af60883ccf41b8a0dba57bc4a9a69f",
            "placeholder": "​",
            "style": "IPY_MODEL_35d8846223e54dff9487c28218753c0c",
            "value": " 15/15 [11:23&lt;00:00, 45.50s/it]"
          }
        },
        "6e02e2a1a2be4dea87508e1c7e4be996": {
          "model_module": "@jupyter-widgets/base",
          "model_name": "LayoutModel",
          "model_module_version": "1.2.0",
          "state": {
            "_model_module": "@jupyter-widgets/base",
            "_model_module_version": "1.2.0",
            "_model_name": "LayoutModel",
            "_view_count": null,
            "_view_module": "@jupyter-widgets/base",
            "_view_module_version": "1.2.0",
            "_view_name": "LayoutView",
            "align_content": null,
            "align_items": null,
            "align_self": null,
            "border": null,
            "bottom": null,
            "display": null,
            "flex": null,
            "flex_flow": null,
            "grid_area": null,
            "grid_auto_columns": null,
            "grid_auto_flow": null,
            "grid_auto_rows": null,
            "grid_column": null,
            "grid_gap": null,
            "grid_row": null,
            "grid_template_areas": null,
            "grid_template_columns": null,
            "grid_template_rows": null,
            "height": null,
            "justify_content": null,
            "justify_items": null,
            "left": null,
            "margin": null,
            "max_height": null,
            "max_width": null,
            "min_height": null,
            "min_width": null,
            "object_fit": null,
            "object_position": null,
            "order": null,
            "overflow": null,
            "overflow_x": null,
            "overflow_y": null,
            "padding": null,
            "right": null,
            "top": null,
            "visibility": null,
            "width": null
          }
        },
        "df9cfd85fb17463f97e373bcfde8a7f0": {
          "model_module": "@jupyter-widgets/base",
          "model_name": "LayoutModel",
          "model_module_version": "1.2.0",
          "state": {
            "_model_module": "@jupyter-widgets/base",
            "_model_module_version": "1.2.0",
            "_model_name": "LayoutModel",
            "_view_count": null,
            "_view_module": "@jupyter-widgets/base",
            "_view_module_version": "1.2.0",
            "_view_name": "LayoutView",
            "align_content": null,
            "align_items": null,
            "align_self": null,
            "border": null,
            "bottom": null,
            "display": null,
            "flex": null,
            "flex_flow": null,
            "grid_area": null,
            "grid_auto_columns": null,
            "grid_auto_flow": null,
            "grid_auto_rows": null,
            "grid_column": null,
            "grid_gap": null,
            "grid_row": null,
            "grid_template_areas": null,
            "grid_template_columns": null,
            "grid_template_rows": null,
            "height": null,
            "justify_content": null,
            "justify_items": null,
            "left": null,
            "margin": null,
            "max_height": null,
            "max_width": null,
            "min_height": null,
            "min_width": null,
            "object_fit": null,
            "object_position": null,
            "order": null,
            "overflow": null,
            "overflow_x": null,
            "overflow_y": null,
            "padding": null,
            "right": null,
            "top": null,
            "visibility": null,
            "width": null
          }
        },
        "f1bbfdc651f7434e9885d75aa68be7ac": {
          "model_module": "@jupyter-widgets/controls",
          "model_name": "DescriptionStyleModel",
          "model_module_version": "1.5.0",
          "state": {
            "_model_module": "@jupyter-widgets/controls",
            "_model_module_version": "1.5.0",
            "_model_name": "DescriptionStyleModel",
            "_view_count": null,
            "_view_module": "@jupyter-widgets/base",
            "_view_module_version": "1.2.0",
            "_view_name": "StyleView",
            "description_width": ""
          }
        },
        "3e07c408a2eb498aabc4ff0ae69ccca8": {
          "model_module": "@jupyter-widgets/base",
          "model_name": "LayoutModel",
          "model_module_version": "1.2.0",
          "state": {
            "_model_module": "@jupyter-widgets/base",
            "_model_module_version": "1.2.0",
            "_model_name": "LayoutModel",
            "_view_count": null,
            "_view_module": "@jupyter-widgets/base",
            "_view_module_version": "1.2.0",
            "_view_name": "LayoutView",
            "align_content": null,
            "align_items": null,
            "align_self": null,
            "border": null,
            "bottom": null,
            "display": null,
            "flex": null,
            "flex_flow": null,
            "grid_area": null,
            "grid_auto_columns": null,
            "grid_auto_flow": null,
            "grid_auto_rows": null,
            "grid_column": null,
            "grid_gap": null,
            "grid_row": null,
            "grid_template_areas": null,
            "grid_template_columns": null,
            "grid_template_rows": null,
            "height": null,
            "justify_content": null,
            "justify_items": null,
            "left": null,
            "margin": null,
            "max_height": null,
            "max_width": null,
            "min_height": null,
            "min_width": null,
            "object_fit": null,
            "object_position": null,
            "order": null,
            "overflow": null,
            "overflow_x": null,
            "overflow_y": null,
            "padding": null,
            "right": null,
            "top": null,
            "visibility": null,
            "width": null
          }
        },
        "63bf16ad7f5b44ee9881cfca5d351676": {
          "model_module": "@jupyter-widgets/controls",
          "model_name": "ProgressStyleModel",
          "model_module_version": "1.5.0",
          "state": {
            "_model_module": "@jupyter-widgets/controls",
            "_model_module_version": "1.5.0",
            "_model_name": "ProgressStyleModel",
            "_view_count": null,
            "_view_module": "@jupyter-widgets/base",
            "_view_module_version": "1.2.0",
            "_view_name": "StyleView",
            "bar_color": null,
            "description_width": ""
          }
        },
        "93af60883ccf41b8a0dba57bc4a9a69f": {
          "model_module": "@jupyter-widgets/base",
          "model_name": "LayoutModel",
          "model_module_version": "1.2.0",
          "state": {
            "_model_module": "@jupyter-widgets/base",
            "_model_module_version": "1.2.0",
            "_model_name": "LayoutModel",
            "_view_count": null,
            "_view_module": "@jupyter-widgets/base",
            "_view_module_version": "1.2.0",
            "_view_name": "LayoutView",
            "align_content": null,
            "align_items": null,
            "align_self": null,
            "border": null,
            "bottom": null,
            "display": null,
            "flex": null,
            "flex_flow": null,
            "grid_area": null,
            "grid_auto_columns": null,
            "grid_auto_flow": null,
            "grid_auto_rows": null,
            "grid_column": null,
            "grid_gap": null,
            "grid_row": null,
            "grid_template_areas": null,
            "grid_template_columns": null,
            "grid_template_rows": null,
            "height": null,
            "justify_content": null,
            "justify_items": null,
            "left": null,
            "margin": null,
            "max_height": null,
            "max_width": null,
            "min_height": null,
            "min_width": null,
            "object_fit": null,
            "object_position": null,
            "order": null,
            "overflow": null,
            "overflow_x": null,
            "overflow_y": null,
            "padding": null,
            "right": null,
            "top": null,
            "visibility": null,
            "width": null
          }
        },
        "35d8846223e54dff9487c28218753c0c": {
          "model_module": "@jupyter-widgets/controls",
          "model_name": "DescriptionStyleModel",
          "model_module_version": "1.5.0",
          "state": {
            "_model_module": "@jupyter-widgets/controls",
            "_model_module_version": "1.5.0",
            "_model_name": "DescriptionStyleModel",
            "_view_count": null,
            "_view_module": "@jupyter-widgets/base",
            "_view_module_version": "1.2.0",
            "_view_name": "StyleView",
            "description_width": ""
          }
        },
        "7a220d056cc44163bb6184970067ba32": {
          "model_module": "@jupyter-widgets/controls",
          "model_name": "HBoxModel",
          "model_module_version": "1.5.0",
          "state": {
            "_dom_classes": [],
            "_model_module": "@jupyter-widgets/controls",
            "_model_module_version": "1.5.0",
            "_model_name": "HBoxModel",
            "_view_count": null,
            "_view_module": "@jupyter-widgets/controls",
            "_view_module_version": "1.5.0",
            "_view_name": "HBoxView",
            "box_style": "",
            "children": [
              "IPY_MODEL_398ef8996e64405b819485488a6d92ea",
              "IPY_MODEL_36b927ac6eef425eab1d7b5df8322f21",
              "IPY_MODEL_4ee46f62d3604ed6bf516491299bd142"
            ],
            "layout": "IPY_MODEL_db1ffccf58b244f698a983c629cbf193"
          }
        },
        "398ef8996e64405b819485488a6d92ea": {
          "model_module": "@jupyter-widgets/controls",
          "model_name": "HTMLModel",
          "model_module_version": "1.5.0",
          "state": {
            "_dom_classes": [],
            "_model_module": "@jupyter-widgets/controls",
            "_model_module_version": "1.5.0",
            "_model_name": "HTMLModel",
            "_view_count": null,
            "_view_module": "@jupyter-widgets/controls",
            "_view_module_version": "1.5.0",
            "_view_name": "HTMLView",
            "description": "",
            "description_tooltip": null,
            "layout": "IPY_MODEL_16a3d5d272854a58873a9863ba1ee413",
            "placeholder": "​",
            "style": "IPY_MODEL_09735bc24d21452e9e1ce35071b19c15",
            "value": "100%"
          }
        },
        "36b927ac6eef425eab1d7b5df8322f21": {
          "model_module": "@jupyter-widgets/controls",
          "model_name": "FloatProgressModel",
          "model_module_version": "1.5.0",
          "state": {
            "_dom_classes": [],
            "_model_module": "@jupyter-widgets/controls",
            "_model_module_version": "1.5.0",
            "_model_name": "FloatProgressModel",
            "_view_count": null,
            "_view_module": "@jupyter-widgets/controls",
            "_view_module_version": "1.5.0",
            "_view_name": "ProgressView",
            "bar_style": "success",
            "description": "",
            "description_tooltip": null,
            "layout": "IPY_MODEL_b70a1ba885f047c5bbb28dc1826611db",
            "max": 15,
            "min": 0,
            "orientation": "horizontal",
            "style": "IPY_MODEL_7184a509a1c54dbbb88661765cd26654",
            "value": 15
          }
        },
        "4ee46f62d3604ed6bf516491299bd142": {
          "model_module": "@jupyter-widgets/controls",
          "model_name": "HTMLModel",
          "model_module_version": "1.5.0",
          "state": {
            "_dom_classes": [],
            "_model_module": "@jupyter-widgets/controls",
            "_model_module_version": "1.5.0",
            "_model_name": "HTMLModel",
            "_view_count": null,
            "_view_module": "@jupyter-widgets/controls",
            "_view_module_version": "1.5.0",
            "_view_name": "HTMLView",
            "description": "",
            "description_tooltip": null,
            "layout": "IPY_MODEL_39fb6ba8632543c8bf7e3ba186f60256",
            "placeholder": "​",
            "style": "IPY_MODEL_65169b8c9b8344ae9d473daaf451e6da",
            "value": " 15/15 [21:32&lt;00:00, 86.35s/it]"
          }
        },
        "db1ffccf58b244f698a983c629cbf193": {
          "model_module": "@jupyter-widgets/base",
          "model_name": "LayoutModel",
          "model_module_version": "1.2.0",
          "state": {
            "_model_module": "@jupyter-widgets/base",
            "_model_module_version": "1.2.0",
            "_model_name": "LayoutModel",
            "_view_count": null,
            "_view_module": "@jupyter-widgets/base",
            "_view_module_version": "1.2.0",
            "_view_name": "LayoutView",
            "align_content": null,
            "align_items": null,
            "align_self": null,
            "border": null,
            "bottom": null,
            "display": null,
            "flex": null,
            "flex_flow": null,
            "grid_area": null,
            "grid_auto_columns": null,
            "grid_auto_flow": null,
            "grid_auto_rows": null,
            "grid_column": null,
            "grid_gap": null,
            "grid_row": null,
            "grid_template_areas": null,
            "grid_template_columns": null,
            "grid_template_rows": null,
            "height": null,
            "justify_content": null,
            "justify_items": null,
            "left": null,
            "margin": null,
            "max_height": null,
            "max_width": null,
            "min_height": null,
            "min_width": null,
            "object_fit": null,
            "object_position": null,
            "order": null,
            "overflow": null,
            "overflow_x": null,
            "overflow_y": null,
            "padding": null,
            "right": null,
            "top": null,
            "visibility": null,
            "width": null
          }
        },
        "16a3d5d272854a58873a9863ba1ee413": {
          "model_module": "@jupyter-widgets/base",
          "model_name": "LayoutModel",
          "model_module_version": "1.2.0",
          "state": {
            "_model_module": "@jupyter-widgets/base",
            "_model_module_version": "1.2.0",
            "_model_name": "LayoutModel",
            "_view_count": null,
            "_view_module": "@jupyter-widgets/base",
            "_view_module_version": "1.2.0",
            "_view_name": "LayoutView",
            "align_content": null,
            "align_items": null,
            "align_self": null,
            "border": null,
            "bottom": null,
            "display": null,
            "flex": null,
            "flex_flow": null,
            "grid_area": null,
            "grid_auto_columns": null,
            "grid_auto_flow": null,
            "grid_auto_rows": null,
            "grid_column": null,
            "grid_gap": null,
            "grid_row": null,
            "grid_template_areas": null,
            "grid_template_columns": null,
            "grid_template_rows": null,
            "height": null,
            "justify_content": null,
            "justify_items": null,
            "left": null,
            "margin": null,
            "max_height": null,
            "max_width": null,
            "min_height": null,
            "min_width": null,
            "object_fit": null,
            "object_position": null,
            "order": null,
            "overflow": null,
            "overflow_x": null,
            "overflow_y": null,
            "padding": null,
            "right": null,
            "top": null,
            "visibility": null,
            "width": null
          }
        },
        "09735bc24d21452e9e1ce35071b19c15": {
          "model_module": "@jupyter-widgets/controls",
          "model_name": "DescriptionStyleModel",
          "model_module_version": "1.5.0",
          "state": {
            "_model_module": "@jupyter-widgets/controls",
            "_model_module_version": "1.5.0",
            "_model_name": "DescriptionStyleModel",
            "_view_count": null,
            "_view_module": "@jupyter-widgets/base",
            "_view_module_version": "1.2.0",
            "_view_name": "StyleView",
            "description_width": ""
          }
        },
        "b70a1ba885f047c5bbb28dc1826611db": {
          "model_module": "@jupyter-widgets/base",
          "model_name": "LayoutModel",
          "model_module_version": "1.2.0",
          "state": {
            "_model_module": "@jupyter-widgets/base",
            "_model_module_version": "1.2.0",
            "_model_name": "LayoutModel",
            "_view_count": null,
            "_view_module": "@jupyter-widgets/base",
            "_view_module_version": "1.2.0",
            "_view_name": "LayoutView",
            "align_content": null,
            "align_items": null,
            "align_self": null,
            "border": null,
            "bottom": null,
            "display": null,
            "flex": null,
            "flex_flow": null,
            "grid_area": null,
            "grid_auto_columns": null,
            "grid_auto_flow": null,
            "grid_auto_rows": null,
            "grid_column": null,
            "grid_gap": null,
            "grid_row": null,
            "grid_template_areas": null,
            "grid_template_columns": null,
            "grid_template_rows": null,
            "height": null,
            "justify_content": null,
            "justify_items": null,
            "left": null,
            "margin": null,
            "max_height": null,
            "max_width": null,
            "min_height": null,
            "min_width": null,
            "object_fit": null,
            "object_position": null,
            "order": null,
            "overflow": null,
            "overflow_x": null,
            "overflow_y": null,
            "padding": null,
            "right": null,
            "top": null,
            "visibility": null,
            "width": null
          }
        },
        "7184a509a1c54dbbb88661765cd26654": {
          "model_module": "@jupyter-widgets/controls",
          "model_name": "ProgressStyleModel",
          "model_module_version": "1.5.0",
          "state": {
            "_model_module": "@jupyter-widgets/controls",
            "_model_module_version": "1.5.0",
            "_model_name": "ProgressStyleModel",
            "_view_count": null,
            "_view_module": "@jupyter-widgets/base",
            "_view_module_version": "1.2.0",
            "_view_name": "StyleView",
            "bar_color": null,
            "description_width": ""
          }
        },
        "39fb6ba8632543c8bf7e3ba186f60256": {
          "model_module": "@jupyter-widgets/base",
          "model_name": "LayoutModel",
          "model_module_version": "1.2.0",
          "state": {
            "_model_module": "@jupyter-widgets/base",
            "_model_module_version": "1.2.0",
            "_model_name": "LayoutModel",
            "_view_count": null,
            "_view_module": "@jupyter-widgets/base",
            "_view_module_version": "1.2.0",
            "_view_name": "LayoutView",
            "align_content": null,
            "align_items": null,
            "align_self": null,
            "border": null,
            "bottom": null,
            "display": null,
            "flex": null,
            "flex_flow": null,
            "grid_area": null,
            "grid_auto_columns": null,
            "grid_auto_flow": null,
            "grid_auto_rows": null,
            "grid_column": null,
            "grid_gap": null,
            "grid_row": null,
            "grid_template_areas": null,
            "grid_template_columns": null,
            "grid_template_rows": null,
            "height": null,
            "justify_content": null,
            "justify_items": null,
            "left": null,
            "margin": null,
            "max_height": null,
            "max_width": null,
            "min_height": null,
            "min_width": null,
            "object_fit": null,
            "object_position": null,
            "order": null,
            "overflow": null,
            "overflow_x": null,
            "overflow_y": null,
            "padding": null,
            "right": null,
            "top": null,
            "visibility": null,
            "width": null
          }
        },
        "65169b8c9b8344ae9d473daaf451e6da": {
          "model_module": "@jupyter-widgets/controls",
          "model_name": "DescriptionStyleModel",
          "model_module_version": "1.5.0",
          "state": {
            "_model_module": "@jupyter-widgets/controls",
            "_model_module_version": "1.5.0",
            "_model_name": "DescriptionStyleModel",
            "_view_count": null,
            "_view_module": "@jupyter-widgets/base",
            "_view_module_version": "1.2.0",
            "_view_name": "StyleView",
            "description_width": ""
          }
        },
        "733831a1fdbe463ab35353ca4955a09f": {
          "model_module": "@jupyter-widgets/controls",
          "model_name": "HBoxModel",
          "model_module_version": "1.5.0",
          "state": {
            "_dom_classes": [],
            "_model_module": "@jupyter-widgets/controls",
            "_model_module_version": "1.5.0",
            "_model_name": "HBoxModel",
            "_view_count": null,
            "_view_module": "@jupyter-widgets/controls",
            "_view_module_version": "1.5.0",
            "_view_name": "HBoxView",
            "box_style": "",
            "children": [
              "IPY_MODEL_656e1f13ff6d4b5ba1a30eb689236894",
              "IPY_MODEL_2de63dacc7a948e8a6c17798aad9d3b3",
              "IPY_MODEL_145bcb87b3434f898b7b8640cd52c4a4"
            ],
            "layout": "IPY_MODEL_0d50689cf00a4dd19f1f3c0a0abeb525"
          }
        },
        "656e1f13ff6d4b5ba1a30eb689236894": {
          "model_module": "@jupyter-widgets/controls",
          "model_name": "HTMLModel",
          "model_module_version": "1.5.0",
          "state": {
            "_dom_classes": [],
            "_model_module": "@jupyter-widgets/controls",
            "_model_module_version": "1.5.0",
            "_model_name": "HTMLModel",
            "_view_count": null,
            "_view_module": "@jupyter-widgets/controls",
            "_view_module_version": "1.5.0",
            "_view_name": "HTMLView",
            "description": "",
            "description_tooltip": null,
            "layout": "IPY_MODEL_59c1080a25e74477a6ce4ab34f0b0ad0",
            "placeholder": "​",
            "style": "IPY_MODEL_c8c215f3ebd84aa785e84b8f03d556ab",
            "value": "100%"
          }
        },
        "2de63dacc7a948e8a6c17798aad9d3b3": {
          "model_module": "@jupyter-widgets/controls",
          "model_name": "FloatProgressModel",
          "model_module_version": "1.5.0",
          "state": {
            "_dom_classes": [],
            "_model_module": "@jupyter-widgets/controls",
            "_model_module_version": "1.5.0",
            "_model_name": "FloatProgressModel",
            "_view_count": null,
            "_view_module": "@jupyter-widgets/controls",
            "_view_module_version": "1.5.0",
            "_view_name": "ProgressView",
            "bar_style": "success",
            "description": "",
            "description_tooltip": null,
            "layout": "IPY_MODEL_68b2ce6ae5ef49d28226eea2d21770bf",
            "max": 15,
            "min": 0,
            "orientation": "horizontal",
            "style": "IPY_MODEL_c17732eee6f1453999334fa9800956ce",
            "value": 15
          }
        },
        "145bcb87b3434f898b7b8640cd52c4a4": {
          "model_module": "@jupyter-widgets/controls",
          "model_name": "HTMLModel",
          "model_module_version": "1.5.0",
          "state": {
            "_dom_classes": [],
            "_model_module": "@jupyter-widgets/controls",
            "_model_module_version": "1.5.0",
            "_model_name": "HTMLModel",
            "_view_count": null,
            "_view_module": "@jupyter-widgets/controls",
            "_view_module_version": "1.5.0",
            "_view_name": "HTMLView",
            "description": "",
            "description_tooltip": null,
            "layout": "IPY_MODEL_e45595768cf5412384b66090d31818fb",
            "placeholder": "​",
            "style": "IPY_MODEL_238fbb2c17ad4fe5aa7d70986d3b8b93",
            "value": " 15/15 [21:35&lt;00:00, 85.88s/it]"
          }
        },
        "0d50689cf00a4dd19f1f3c0a0abeb525": {
          "model_module": "@jupyter-widgets/base",
          "model_name": "LayoutModel",
          "model_module_version": "1.2.0",
          "state": {
            "_model_module": "@jupyter-widgets/base",
            "_model_module_version": "1.2.0",
            "_model_name": "LayoutModel",
            "_view_count": null,
            "_view_module": "@jupyter-widgets/base",
            "_view_module_version": "1.2.0",
            "_view_name": "LayoutView",
            "align_content": null,
            "align_items": null,
            "align_self": null,
            "border": null,
            "bottom": null,
            "display": null,
            "flex": null,
            "flex_flow": null,
            "grid_area": null,
            "grid_auto_columns": null,
            "grid_auto_flow": null,
            "grid_auto_rows": null,
            "grid_column": null,
            "grid_gap": null,
            "grid_row": null,
            "grid_template_areas": null,
            "grid_template_columns": null,
            "grid_template_rows": null,
            "height": null,
            "justify_content": null,
            "justify_items": null,
            "left": null,
            "margin": null,
            "max_height": null,
            "max_width": null,
            "min_height": null,
            "min_width": null,
            "object_fit": null,
            "object_position": null,
            "order": null,
            "overflow": null,
            "overflow_x": null,
            "overflow_y": null,
            "padding": null,
            "right": null,
            "top": null,
            "visibility": null,
            "width": null
          }
        },
        "59c1080a25e74477a6ce4ab34f0b0ad0": {
          "model_module": "@jupyter-widgets/base",
          "model_name": "LayoutModel",
          "model_module_version": "1.2.0",
          "state": {
            "_model_module": "@jupyter-widgets/base",
            "_model_module_version": "1.2.0",
            "_model_name": "LayoutModel",
            "_view_count": null,
            "_view_module": "@jupyter-widgets/base",
            "_view_module_version": "1.2.0",
            "_view_name": "LayoutView",
            "align_content": null,
            "align_items": null,
            "align_self": null,
            "border": null,
            "bottom": null,
            "display": null,
            "flex": null,
            "flex_flow": null,
            "grid_area": null,
            "grid_auto_columns": null,
            "grid_auto_flow": null,
            "grid_auto_rows": null,
            "grid_column": null,
            "grid_gap": null,
            "grid_row": null,
            "grid_template_areas": null,
            "grid_template_columns": null,
            "grid_template_rows": null,
            "height": null,
            "justify_content": null,
            "justify_items": null,
            "left": null,
            "margin": null,
            "max_height": null,
            "max_width": null,
            "min_height": null,
            "min_width": null,
            "object_fit": null,
            "object_position": null,
            "order": null,
            "overflow": null,
            "overflow_x": null,
            "overflow_y": null,
            "padding": null,
            "right": null,
            "top": null,
            "visibility": null,
            "width": null
          }
        },
        "c8c215f3ebd84aa785e84b8f03d556ab": {
          "model_module": "@jupyter-widgets/controls",
          "model_name": "DescriptionStyleModel",
          "model_module_version": "1.5.0",
          "state": {
            "_model_module": "@jupyter-widgets/controls",
            "_model_module_version": "1.5.0",
            "_model_name": "DescriptionStyleModel",
            "_view_count": null,
            "_view_module": "@jupyter-widgets/base",
            "_view_module_version": "1.2.0",
            "_view_name": "StyleView",
            "description_width": ""
          }
        },
        "68b2ce6ae5ef49d28226eea2d21770bf": {
          "model_module": "@jupyter-widgets/base",
          "model_name": "LayoutModel",
          "model_module_version": "1.2.0",
          "state": {
            "_model_module": "@jupyter-widgets/base",
            "_model_module_version": "1.2.0",
            "_model_name": "LayoutModel",
            "_view_count": null,
            "_view_module": "@jupyter-widgets/base",
            "_view_module_version": "1.2.0",
            "_view_name": "LayoutView",
            "align_content": null,
            "align_items": null,
            "align_self": null,
            "border": null,
            "bottom": null,
            "display": null,
            "flex": null,
            "flex_flow": null,
            "grid_area": null,
            "grid_auto_columns": null,
            "grid_auto_flow": null,
            "grid_auto_rows": null,
            "grid_column": null,
            "grid_gap": null,
            "grid_row": null,
            "grid_template_areas": null,
            "grid_template_columns": null,
            "grid_template_rows": null,
            "height": null,
            "justify_content": null,
            "justify_items": null,
            "left": null,
            "margin": null,
            "max_height": null,
            "max_width": null,
            "min_height": null,
            "min_width": null,
            "object_fit": null,
            "object_position": null,
            "order": null,
            "overflow": null,
            "overflow_x": null,
            "overflow_y": null,
            "padding": null,
            "right": null,
            "top": null,
            "visibility": null,
            "width": null
          }
        },
        "c17732eee6f1453999334fa9800956ce": {
          "model_module": "@jupyter-widgets/controls",
          "model_name": "ProgressStyleModel",
          "model_module_version": "1.5.0",
          "state": {
            "_model_module": "@jupyter-widgets/controls",
            "_model_module_version": "1.5.0",
            "_model_name": "ProgressStyleModel",
            "_view_count": null,
            "_view_module": "@jupyter-widgets/base",
            "_view_module_version": "1.2.0",
            "_view_name": "StyleView",
            "bar_color": null,
            "description_width": ""
          }
        },
        "e45595768cf5412384b66090d31818fb": {
          "model_module": "@jupyter-widgets/base",
          "model_name": "LayoutModel",
          "model_module_version": "1.2.0",
          "state": {
            "_model_module": "@jupyter-widgets/base",
            "_model_module_version": "1.2.0",
            "_model_name": "LayoutModel",
            "_view_count": null,
            "_view_module": "@jupyter-widgets/base",
            "_view_module_version": "1.2.0",
            "_view_name": "LayoutView",
            "align_content": null,
            "align_items": null,
            "align_self": null,
            "border": null,
            "bottom": null,
            "display": null,
            "flex": null,
            "flex_flow": null,
            "grid_area": null,
            "grid_auto_columns": null,
            "grid_auto_flow": null,
            "grid_auto_rows": null,
            "grid_column": null,
            "grid_gap": null,
            "grid_row": null,
            "grid_template_areas": null,
            "grid_template_columns": null,
            "grid_template_rows": null,
            "height": null,
            "justify_content": null,
            "justify_items": null,
            "left": null,
            "margin": null,
            "max_height": null,
            "max_width": null,
            "min_height": null,
            "min_width": null,
            "object_fit": null,
            "object_position": null,
            "order": null,
            "overflow": null,
            "overflow_x": null,
            "overflow_y": null,
            "padding": null,
            "right": null,
            "top": null,
            "visibility": null,
            "width": null
          }
        },
        "238fbb2c17ad4fe5aa7d70986d3b8b93": {
          "model_module": "@jupyter-widgets/controls",
          "model_name": "DescriptionStyleModel",
          "model_module_version": "1.5.0",
          "state": {
            "_model_module": "@jupyter-widgets/controls",
            "_model_module_version": "1.5.0",
            "_model_name": "DescriptionStyleModel",
            "_view_count": null,
            "_view_module": "@jupyter-widgets/base",
            "_view_module_version": "1.2.0",
            "_view_name": "StyleView",
            "description_width": ""
          }
        },
        "9c80daa636fd4b488cee826619a7b6e1": {
          "model_module": "@jupyter-widgets/controls",
          "model_name": "HBoxModel",
          "model_module_version": "1.5.0",
          "state": {
            "_dom_classes": [],
            "_model_module": "@jupyter-widgets/controls",
            "_model_module_version": "1.5.0",
            "_model_name": "HBoxModel",
            "_view_count": null,
            "_view_module": "@jupyter-widgets/controls",
            "_view_module_version": "1.5.0",
            "_view_name": "HBoxView",
            "box_style": "",
            "children": [
              "IPY_MODEL_23fd5b03f1c24b73a30e555ed655dc5b",
              "IPY_MODEL_567072e817164eae927cc54b47c6dd71",
              "IPY_MODEL_37339dc66d9c48c7b2f5f0c6553c32ea"
            ],
            "layout": "IPY_MODEL_f90bcea358b84cd48e0f94a8f9ce3fe8"
          }
        },
        "23fd5b03f1c24b73a30e555ed655dc5b": {
          "model_module": "@jupyter-widgets/controls",
          "model_name": "HTMLModel",
          "model_module_version": "1.5.0",
          "state": {
            "_dom_classes": [],
            "_model_module": "@jupyter-widgets/controls",
            "_model_module_version": "1.5.0",
            "_model_name": "HTMLModel",
            "_view_count": null,
            "_view_module": "@jupyter-widgets/controls",
            "_view_module_version": "1.5.0",
            "_view_name": "HTMLView",
            "description": "",
            "description_tooltip": null,
            "layout": "IPY_MODEL_c954e121eca04bc48a91000424143def",
            "placeholder": "​",
            "style": "IPY_MODEL_57f23475a3744354b250d51bc76c1911",
            "value": " 95%"
          }
        },
        "567072e817164eae927cc54b47c6dd71": {
          "model_module": "@jupyter-widgets/controls",
          "model_name": "FloatProgressModel",
          "model_module_version": "1.5.0",
          "state": {
            "_dom_classes": [],
            "_model_module": "@jupyter-widgets/controls",
            "_model_module_version": "1.5.0",
            "_model_name": "FloatProgressModel",
            "_view_count": null,
            "_view_module": "@jupyter-widgets/controls",
            "_view_module_version": "1.5.0",
            "_view_name": "ProgressView",
            "bar_style": "danger",
            "description": "",
            "description_tooltip": null,
            "layout": "IPY_MODEL_e062487b3e264718a5205f27878a109b",
            "max": 20,
            "min": 0,
            "orientation": "horizontal",
            "style": "IPY_MODEL_2dc45f30f05c4435ae5d3f69812dd30f",
            "value": 19
          }
        },
        "37339dc66d9c48c7b2f5f0c6553c32ea": {
          "model_module": "@jupyter-widgets/controls",
          "model_name": "HTMLModel",
          "model_module_version": "1.5.0",
          "state": {
            "_dom_classes": [],
            "_model_module": "@jupyter-widgets/controls",
            "_model_module_version": "1.5.0",
            "_model_name": "HTMLModel",
            "_view_count": null,
            "_view_module": "@jupyter-widgets/controls",
            "_view_module_version": "1.5.0",
            "_view_name": "HTMLView",
            "description": "",
            "description_tooltip": null,
            "layout": "IPY_MODEL_2e69998539e046a89d95d9db494081fc",
            "placeholder": "​",
            "style": "IPY_MODEL_5b6f038b1f564fc4a237fd1cc3e015b4",
            "value": " 19/20 [1:09:42&lt;03:31, 211.71s/it]"
          }
        },
        "f90bcea358b84cd48e0f94a8f9ce3fe8": {
          "model_module": "@jupyter-widgets/base",
          "model_name": "LayoutModel",
          "model_module_version": "1.2.0",
          "state": {
            "_model_module": "@jupyter-widgets/base",
            "_model_module_version": "1.2.0",
            "_model_name": "LayoutModel",
            "_view_count": null,
            "_view_module": "@jupyter-widgets/base",
            "_view_module_version": "1.2.0",
            "_view_name": "LayoutView",
            "align_content": null,
            "align_items": null,
            "align_self": null,
            "border": null,
            "bottom": null,
            "display": null,
            "flex": null,
            "flex_flow": null,
            "grid_area": null,
            "grid_auto_columns": null,
            "grid_auto_flow": null,
            "grid_auto_rows": null,
            "grid_column": null,
            "grid_gap": null,
            "grid_row": null,
            "grid_template_areas": null,
            "grid_template_columns": null,
            "grid_template_rows": null,
            "height": null,
            "justify_content": null,
            "justify_items": null,
            "left": null,
            "margin": null,
            "max_height": null,
            "max_width": null,
            "min_height": null,
            "min_width": null,
            "object_fit": null,
            "object_position": null,
            "order": null,
            "overflow": null,
            "overflow_x": null,
            "overflow_y": null,
            "padding": null,
            "right": null,
            "top": null,
            "visibility": null,
            "width": null
          }
        },
        "c954e121eca04bc48a91000424143def": {
          "model_module": "@jupyter-widgets/base",
          "model_name": "LayoutModel",
          "model_module_version": "1.2.0",
          "state": {
            "_model_module": "@jupyter-widgets/base",
            "_model_module_version": "1.2.0",
            "_model_name": "LayoutModel",
            "_view_count": null,
            "_view_module": "@jupyter-widgets/base",
            "_view_module_version": "1.2.0",
            "_view_name": "LayoutView",
            "align_content": null,
            "align_items": null,
            "align_self": null,
            "border": null,
            "bottom": null,
            "display": null,
            "flex": null,
            "flex_flow": null,
            "grid_area": null,
            "grid_auto_columns": null,
            "grid_auto_flow": null,
            "grid_auto_rows": null,
            "grid_column": null,
            "grid_gap": null,
            "grid_row": null,
            "grid_template_areas": null,
            "grid_template_columns": null,
            "grid_template_rows": null,
            "height": null,
            "justify_content": null,
            "justify_items": null,
            "left": null,
            "margin": null,
            "max_height": null,
            "max_width": null,
            "min_height": null,
            "min_width": null,
            "object_fit": null,
            "object_position": null,
            "order": null,
            "overflow": null,
            "overflow_x": null,
            "overflow_y": null,
            "padding": null,
            "right": null,
            "top": null,
            "visibility": null,
            "width": null
          }
        },
        "57f23475a3744354b250d51bc76c1911": {
          "model_module": "@jupyter-widgets/controls",
          "model_name": "DescriptionStyleModel",
          "model_module_version": "1.5.0",
          "state": {
            "_model_module": "@jupyter-widgets/controls",
            "_model_module_version": "1.5.0",
            "_model_name": "DescriptionStyleModel",
            "_view_count": null,
            "_view_module": "@jupyter-widgets/base",
            "_view_module_version": "1.2.0",
            "_view_name": "StyleView",
            "description_width": ""
          }
        },
        "e062487b3e264718a5205f27878a109b": {
          "model_module": "@jupyter-widgets/base",
          "model_name": "LayoutModel",
          "model_module_version": "1.2.0",
          "state": {
            "_model_module": "@jupyter-widgets/base",
            "_model_module_version": "1.2.0",
            "_model_name": "LayoutModel",
            "_view_count": null,
            "_view_module": "@jupyter-widgets/base",
            "_view_module_version": "1.2.0",
            "_view_name": "LayoutView",
            "align_content": null,
            "align_items": null,
            "align_self": null,
            "border": null,
            "bottom": null,
            "display": null,
            "flex": null,
            "flex_flow": null,
            "grid_area": null,
            "grid_auto_columns": null,
            "grid_auto_flow": null,
            "grid_auto_rows": null,
            "grid_column": null,
            "grid_gap": null,
            "grid_row": null,
            "grid_template_areas": null,
            "grid_template_columns": null,
            "grid_template_rows": null,
            "height": null,
            "justify_content": null,
            "justify_items": null,
            "left": null,
            "margin": null,
            "max_height": null,
            "max_width": null,
            "min_height": null,
            "min_width": null,
            "object_fit": null,
            "object_position": null,
            "order": null,
            "overflow": null,
            "overflow_x": null,
            "overflow_y": null,
            "padding": null,
            "right": null,
            "top": null,
            "visibility": null,
            "width": null
          }
        },
        "2dc45f30f05c4435ae5d3f69812dd30f": {
          "model_module": "@jupyter-widgets/controls",
          "model_name": "ProgressStyleModel",
          "model_module_version": "1.5.0",
          "state": {
            "_model_module": "@jupyter-widgets/controls",
            "_model_module_version": "1.5.0",
            "_model_name": "ProgressStyleModel",
            "_view_count": null,
            "_view_module": "@jupyter-widgets/base",
            "_view_module_version": "1.2.0",
            "_view_name": "StyleView",
            "bar_color": null,
            "description_width": ""
          }
        },
        "2e69998539e046a89d95d9db494081fc": {
          "model_module": "@jupyter-widgets/base",
          "model_name": "LayoutModel",
          "model_module_version": "1.2.0",
          "state": {
            "_model_module": "@jupyter-widgets/base",
            "_model_module_version": "1.2.0",
            "_model_name": "LayoutModel",
            "_view_count": null,
            "_view_module": "@jupyter-widgets/base",
            "_view_module_version": "1.2.0",
            "_view_name": "LayoutView",
            "align_content": null,
            "align_items": null,
            "align_self": null,
            "border": null,
            "bottom": null,
            "display": null,
            "flex": null,
            "flex_flow": null,
            "grid_area": null,
            "grid_auto_columns": null,
            "grid_auto_flow": null,
            "grid_auto_rows": null,
            "grid_column": null,
            "grid_gap": null,
            "grid_row": null,
            "grid_template_areas": null,
            "grid_template_columns": null,
            "grid_template_rows": null,
            "height": null,
            "justify_content": null,
            "justify_items": null,
            "left": null,
            "margin": null,
            "max_height": null,
            "max_width": null,
            "min_height": null,
            "min_width": null,
            "object_fit": null,
            "object_position": null,
            "order": null,
            "overflow": null,
            "overflow_x": null,
            "overflow_y": null,
            "padding": null,
            "right": null,
            "top": null,
            "visibility": null,
            "width": null
          }
        },
        "5b6f038b1f564fc4a237fd1cc3e015b4": {
          "model_module": "@jupyter-widgets/controls",
          "model_name": "DescriptionStyleModel",
          "model_module_version": "1.5.0",
          "state": {
            "_model_module": "@jupyter-widgets/controls",
            "_model_module_version": "1.5.0",
            "_model_name": "DescriptionStyleModel",
            "_view_count": null,
            "_view_module": "@jupyter-widgets/base",
            "_view_module_version": "1.2.0",
            "_view_name": "StyleView",
            "description_width": ""
          }
        }
      }
    }
  },
  "cells": [
    {
      "cell_type": "markdown",
      "source": [
        "### Importing Required Libraries"
      ],
      "metadata": {
        "id": "rQLO8xMLhZ4a"
      }
    },
    {
      "cell_type": "code",
      "execution_count": 1,
      "metadata": {
        "id": "-8zBxOm1FVnF"
      },
      "outputs": [],
      "source": [
        "import torch\n",
        "import torch.nn as nn\n",
        "import torch.nn.functional as F\n",
        "import torch.optim as optim\n",
        "import torchvision\n",
        "from torch.utils.data import DataLoader\n",
        "from torchvision import datasets, transforms\n",
        "import numpy as np\n",
        "import random\n",
        "import matplotlib.pyplot as plt\n",
        "from tqdm.auto import tqdm"
      ]
    },
    {
      "cell_type": "code",
      "source": [
        "device = \"cuda\" if torch.cuda.is_available() else 'cpu'\n",
        "device"
      ],
      "metadata": {
        "colab": {
          "base_uri": "https://localhost:8080/",
          "height": 36
        },
        "id": "SyKVgdSeFXjZ",
        "outputId": "40ded156-c373-4d9f-e06e-f75e09ee3b7e"
      },
      "execution_count": 2,
      "outputs": [
        {
          "output_type": "execute_result",
          "data": {
            "text/plain": [
              "'cuda'"
            ],
            "application/vnd.google.colaboratory.intrinsic+json": {
              "type": "string"
            }
          },
          "metadata": {},
          "execution_count": 2
        }
      ]
    },
    {
      "cell_type": "markdown",
      "source": [
        "### Defining the seed"
      ],
      "metadata": {
        "id": "Z8ZVSsJ7heyL"
      }
    },
    {
      "cell_type": "code",
      "source": [
        "torch.manual_seed(42)\n",
        "torch.cuda.manual_seed(42)\n",
        "random.seed(42)"
      ],
      "metadata": {
        "id": "GDUJ-JyzFnFE"
      },
      "execution_count": 3,
      "outputs": []
    },
    {
      "cell_type": "markdown",
      "source": [
        "### Defining the model and training parameters"
      ],
      "metadata": {
        "id": "cFQ_4Nh-hive"
      }
    },
    {
      "cell_type": "code",
      "source": [
        "BATCH_SIZE = 128\n",
        "LEARNING_RATE = 3e-4\n",
        "PATCH_SIZE = 4\n",
        "NUM_CLASSES = 10\n",
        "IMAGE_SIZE = 32\n",
        "CHANNELS = 3\n",
        "EMBED_DIM = 256\n",
        "NUM_HEAD = 8\n",
        "DEPTH = 6\n",
        "MLP_DIM = 512\n",
        "DROP_RATE = 0.1"
      ],
      "metadata": {
        "id": "4GmLn6HpGYfN"
      },
      "execution_count": 4,
      "outputs": []
    },
    {
      "cell_type": "markdown",
      "source": [
        "### Initial Transformations applied to test and train data"
      ],
      "metadata": {
        "id": "yAd-bdkUhppb"
      }
    },
    {
      "cell_type": "code",
      "source": [
        "transform = transforms.Compose([\n",
        "    transforms.ToTensor(),\n",
        "    transforms.Normalize(mean=[0.4914, 0.4822, 0.4465],\n",
        "                     std=[0.2023, 0.1994, 0.2010])\n",
        "])"
      ],
      "metadata": {
        "id": "8JQpwJmCHCFH"
      },
      "execution_count": 5,
      "outputs": []
    },
    {
      "cell_type": "markdown",
      "source": [
        "### Loading the dataset and defining the train and test loader"
      ],
      "metadata": {
        "id": "4yM72zKDhw9z"
      }
    },
    {
      "cell_type": "code",
      "source": [
        "def load_data(transformation):\n",
        "  train_dataset = datasets.CIFAR10(root='./data', train=True, download=True, transform=transformation)\n",
        "  test_dataset = datasets.CIFAR10(root='./data', train=False, download=True, transform=transformation)\n",
        "  train_loader = DataLoader(train_dataset, batch_size=BATCH_SIZE, shuffle=True)\n",
        "  test_loader = DataLoader(test_dataset, batch_size=BATCH_SIZE, shuffle=False)\n",
        "  return train_dataset, test_dataset, train_loader, test_loader"
      ],
      "metadata": {
        "id": "QTaHf8_w7veS"
      },
      "execution_count": 6,
      "outputs": []
    },
    {
      "cell_type": "code",
      "source": [
        "train_dataset, test_dataset, train_loader, test_loader = load_data(transform)"
      ],
      "metadata": {
        "id": "UU0BjYcR8K8A",
        "colab": {
          "base_uri": "https://localhost:8080/"
        },
        "outputId": "ab63f513-c33e-491b-8ee9-8eacb981f061"
      },
      "execution_count": 7,
      "outputs": [
        {
          "output_type": "stream",
          "name": "stderr",
          "text": [
            "100%|██████████| 170M/170M [00:03<00:00, 43.7MB/s]\n"
          ]
        }
      ]
    },
    {
      "cell_type": "markdown",
      "source": [
        "### Defining PatchEmbedding module that splits an image into patches using a convolution layer, flattens them into embeddings, adds a learnable class token and positional encodings, and outputs the sequence for a Vision Transformer."
      ],
      "metadata": {
        "id": "UdyV8Z6Xh42V"
      }
    },
    {
      "cell_type": "code",
      "source": [
        "class PatchEmbedding(nn.Module):\n",
        "    def __init__(self, img_size, patch_size, in_channels, embed_dim, stride=None):\n",
        "        super().__init__()\n",
        "        self.patch_size = patch_size\n",
        "        self.stride = stride if stride is not None else patch_size\n",
        "\n",
        "        self.proj = nn.Conv2d(\n",
        "            in_channels=in_channels,\n",
        "            out_channels=embed_dim,\n",
        "            kernel_size=patch_size,\n",
        "            stride=self.stride\n",
        "        )\n",
        "\n",
        "        # Compute number of patches per dimension\n",
        "        num_patches_per_dim = ((img_size - patch_size) // self.stride) + 1\n",
        "        num_patches = num_patches_per_dim ** 2\n",
        "\n",
        "        # Class token + positional embedding\n",
        "        self.cls_token = nn.Parameter(torch.randn(1, 1, embed_dim))\n",
        "        self.pos_embed = nn.Parameter(torch.randn(1, 1 + num_patches, embed_dim))\n",
        "\n",
        "    def forward(self, x: torch.Tensor):\n",
        "        B = x.size(0)\n",
        "        x = self.proj(x)                        # [B, embed_dim, H', W']\n",
        "        x = x.flatten(2).transpose(1, 2)        # [B, num_patches, embed_dim]\n",
        "        cls_token = self.cls_token.expand(B, -1, -1)\n",
        "        x = torch.cat([cls_token, x], dim=1)    # [B, 1+num_patches, embed_dim]\n",
        "        x = x + self.pos_embed\n",
        "        return x\n"
      ],
      "metadata": {
        "id": "eU1te4uq9D4T"
      },
      "execution_count": 8,
      "outputs": []
    },
    {
      "cell_type": "code",
      "source": [
        "class MLP(nn.Module):\n",
        "  def __init__(self,\n",
        "               in_features,\n",
        "               hidden_features,\n",
        "               drop_rate):\n",
        "    super().__init__()\n",
        "    self.fc1 = nn.Linear(in_features=in_features,\n",
        "                         out_features=hidden_features)\n",
        "    self.drop = nn.Dropout(p=drop_rate)\n",
        "    self.fc2 = nn.Linear(in_features=hidden_features,\n",
        "                         out_features=in_features)\n",
        "\n",
        "  def forward(self, x):\n",
        "    x = self.drop(F.gelu(self.fc1(x)))\n",
        "    x = self.drop(self.fc2(x))\n",
        "    return x"
      ],
      "metadata": {
        "id": "kKQ_Gq3vEdkK"
      },
      "execution_count": 9,
      "outputs": []
    },
    {
      "cell_type": "markdown",
      "source": [
        "### Implementing a Multi-Head Self-Attention layer, which projects input embeddings into queries, keys, and values, computes scaled dot-product attention across multiple heads, and combines the results into the output embedding."
      ],
      "metadata": {
        "id": "gvT5K8UuiYBE"
      }
    },
    {
      "cell_type": "code",
      "source": [
        "class MultiHeadSelfAttention(nn.Module):\n",
        "    def __init__(self, embed_dim, num_heads, dropout=0.0):\n",
        "        super().__init__()\n",
        "        # Ensure embedding dimension is divisible by number of heads\n",
        "        assert embed_dim % num_heads == 0, \"embed_dim must be divisible by num_heads\"\n",
        "\n",
        "        self.embed_dim = embed_dim\n",
        "        self.num_heads = num_heads\n",
        "        self.head_dim = embed_dim // num_heads  # Dimension per head\n",
        "\n",
        "        # Linear layer to compute queries, keys, and values in one go\n",
        "        self.qkv = nn.Linear(embed_dim, embed_dim * 3)\n",
        "        self.proj = nn.Linear(embed_dim, embed_dim)\n",
        "        self.dropout = nn.Dropout(dropout)\n",
        "\n",
        "    def forward(self, x):\n",
        "        B, N, D = x.shape  # B: batch size, N: sequence length, D: embedding dim\n",
        "\n",
        "        # Compute queries, keys, values and reshape for multi-head attention\n",
        "        qkv = self.qkv(x)  # Shape: (B, N, 3*D)\n",
        "        qkv = qkv.reshape(B, N, 3, self.num_heads, self.head_dim)  # (B, N, 3, num_heads, head_dim)\n",
        "        qkv = qkv.permute(2, 0, 3, 1, 4)  # Rearrange to (3, B, num_heads, N, head_dim)\n",
        "        Q, K, V = qkv[0], qkv[1], qkv[2]  # Split into queries, keys, and values\n",
        "\n",
        "        # Compute scaled dot-product attention\n",
        "        scores = (Q @ K.transpose(-2, -1)) / (self.head_dim ** 0.5)  # (B, num_heads, N, N)\n",
        "        attn = F.softmax(scores, dim=-1)\n",
        "        attn = self.dropout(attn)\n",
        "\n",
        "        out = attn @ V  # (B, num_heads, N, head_dim)\n",
        "\n",
        "        # Concatenate heads and reshape back to (B, N, D)\n",
        "        out = out.transpose(1, 2).reshape(B, N, D)\n",
        "\n",
        "        # Final linear projection\n",
        "        out = self.proj(out)\n",
        "        return out\n"
      ],
      "metadata": {
        "id": "T7AbOOJFHGBD"
      },
      "execution_count": 10,
      "outputs": []
    },
    {
      "cell_type": "markdown",
      "source": [
        "### Defining Transformer Encoder Layer, which applies layer normalization, multi-head self-attention, and a feed-forward MLP with residual connections to process input embeddings."
      ],
      "metadata": {
        "id": "W6H_43kKieto"
      }
    },
    {
      "cell_type": "code",
      "source": [
        "class TransformerEncoderLayer(nn.Module):\n",
        "  def __init__(self, embed_dim, num_head, mlp_dim,drop_rate):\n",
        "    super().__init__()\n",
        "    self.norm1 = nn.LayerNorm(embed_dim)\n",
        "    self.attn = MultiHeadSelfAttention(embed_dim=embed_dim,\n",
        "                                      num_heads=num_head,\n",
        "                                      dropout=drop_rate)\n",
        "    self.norm2 = nn.LayerNorm(embed_dim)\n",
        "    self.mlp = MLP(embed_dim, mlp_dim, drop_rate)\n",
        "\n",
        "  def forward(self, x):\n",
        "    x = x + self.attn(self.norm1(x))\n",
        "    x = x + self.mlp(self.norm2(x))\n",
        "    return x"
      ],
      "metadata": {
        "id": "yLGh6rxfGKcB"
      },
      "execution_count": 11,
      "outputs": []
    },
    {
      "cell_type": "markdown",
      "source": [
        "### Defining Vision Transformer (ViT) model that converts an image into patch embeddings, processes them through stacked transformer encoder layers, normalizes the output, and uses the class token for final classification."
      ],
      "metadata": {
        "id": "2vwuct1Fi06m"
      }
    },
    {
      "cell_type": "code",
      "source": [
        "class VisionTransformer(nn.Module):\n",
        "  def __init__(self, img_size, patch_size, in_channels, num_classes, embed_dim, depth, num_heads, mlp_dim, drop_rate, stride = None):\n",
        "    super().__init__()\n",
        "    self.patch_embed = PatchEmbedding(img_size=img_size,\n",
        "                                      patch_size=patch_size,\n",
        "                                      in_channels=in_channels,\n",
        "                                      embed_dim=embed_dim,\n",
        "                                      stride = stride)\n",
        "    self.encoder = nn.Sequential(\n",
        "        *[TransformerEncoderLayer(embed_dim, num_heads, mlp_dim, drop_rate)\n",
        "        for _ in range(depth)]\n",
        "    )\n",
        "\n",
        "    self.norm = nn.LayerNorm(embed_dim)\n",
        "    self.head = nn.Linear(embed_dim, num_classes)\n",
        "\n",
        "  def forward(self,x):\n",
        "    x = self.patch_embed(x)\n",
        "    x = self.encoder(x)\n",
        "    x = self.norm(x)\n",
        "    cls_token = x[:,0]\n",
        "    return self.head(cls_token)"
      ],
      "metadata": {
        "id": "g6NghVL2KXF6"
      },
      "execution_count": 12,
      "outputs": []
    },
    {
      "cell_type": "markdown",
      "source": [
        "### Inistantiating our baseline model"
      ],
      "metadata": {
        "id": "PSqRMBTDjMWa"
      }
    },
    {
      "cell_type": "code",
      "source": [
        "model = VisionTransformer(\n",
        "    IMAGE_SIZE, PATCH_SIZE, CHANNELS,NUM_CLASSES,\n",
        "    EMBED_DIM, DEPTH, NUM_HEAD, MLP_DIM, DROP_RATE\n",
        ").to(device)"
      ],
      "metadata": {
        "id": "n6AvYPVjMeEN"
      },
      "execution_count": 13,
      "outputs": []
    },
    {
      "cell_type": "code",
      "source": [
        "model"
      ],
      "metadata": {
        "colab": {
          "base_uri": "https://localhost:8080/"
        },
        "id": "mMsKQVkQNz7y",
        "outputId": "58839585-fb0a-4612-d97a-c3fb973f8c28",
        "collapsed": true
      },
      "execution_count": 14,
      "outputs": [
        {
          "output_type": "execute_result",
          "data": {
            "text/plain": [
              "VisionTransformer(\n",
              "  (patch_embed): PatchEmbedding(\n",
              "    (proj): Conv2d(3, 256, kernel_size=(4, 4), stride=(4, 4))\n",
              "  )\n",
              "  (encoder): Sequential(\n",
              "    (0): TransformerEncoderLayer(\n",
              "      (norm1): LayerNorm((256,), eps=1e-05, elementwise_affine=True)\n",
              "      (attn): MultiHeadSelfAttention(\n",
              "        (qkv): Linear(in_features=256, out_features=768, bias=True)\n",
              "        (proj): Linear(in_features=256, out_features=256, bias=True)\n",
              "        (dropout): Dropout(p=0.1, inplace=False)\n",
              "      )\n",
              "      (norm2): LayerNorm((256,), eps=1e-05, elementwise_affine=True)\n",
              "      (mlp): MLP(\n",
              "        (fc1): Linear(in_features=256, out_features=512, bias=True)\n",
              "        (drop): Dropout(p=0.1, inplace=False)\n",
              "        (fc2): Linear(in_features=512, out_features=256, bias=True)\n",
              "      )\n",
              "    )\n",
              "    (1): TransformerEncoderLayer(\n",
              "      (norm1): LayerNorm((256,), eps=1e-05, elementwise_affine=True)\n",
              "      (attn): MultiHeadSelfAttention(\n",
              "        (qkv): Linear(in_features=256, out_features=768, bias=True)\n",
              "        (proj): Linear(in_features=256, out_features=256, bias=True)\n",
              "        (dropout): Dropout(p=0.1, inplace=False)\n",
              "      )\n",
              "      (norm2): LayerNorm((256,), eps=1e-05, elementwise_affine=True)\n",
              "      (mlp): MLP(\n",
              "        (fc1): Linear(in_features=256, out_features=512, bias=True)\n",
              "        (drop): Dropout(p=0.1, inplace=False)\n",
              "        (fc2): Linear(in_features=512, out_features=256, bias=True)\n",
              "      )\n",
              "    )\n",
              "    (2): TransformerEncoderLayer(\n",
              "      (norm1): LayerNorm((256,), eps=1e-05, elementwise_affine=True)\n",
              "      (attn): MultiHeadSelfAttention(\n",
              "        (qkv): Linear(in_features=256, out_features=768, bias=True)\n",
              "        (proj): Linear(in_features=256, out_features=256, bias=True)\n",
              "        (dropout): Dropout(p=0.1, inplace=False)\n",
              "      )\n",
              "      (norm2): LayerNorm((256,), eps=1e-05, elementwise_affine=True)\n",
              "      (mlp): MLP(\n",
              "        (fc1): Linear(in_features=256, out_features=512, bias=True)\n",
              "        (drop): Dropout(p=0.1, inplace=False)\n",
              "        (fc2): Linear(in_features=512, out_features=256, bias=True)\n",
              "      )\n",
              "    )\n",
              "    (3): TransformerEncoderLayer(\n",
              "      (norm1): LayerNorm((256,), eps=1e-05, elementwise_affine=True)\n",
              "      (attn): MultiHeadSelfAttention(\n",
              "        (qkv): Linear(in_features=256, out_features=768, bias=True)\n",
              "        (proj): Linear(in_features=256, out_features=256, bias=True)\n",
              "        (dropout): Dropout(p=0.1, inplace=False)\n",
              "      )\n",
              "      (norm2): LayerNorm((256,), eps=1e-05, elementwise_affine=True)\n",
              "      (mlp): MLP(\n",
              "        (fc1): Linear(in_features=256, out_features=512, bias=True)\n",
              "        (drop): Dropout(p=0.1, inplace=False)\n",
              "        (fc2): Linear(in_features=512, out_features=256, bias=True)\n",
              "      )\n",
              "    )\n",
              "    (4): TransformerEncoderLayer(\n",
              "      (norm1): LayerNorm((256,), eps=1e-05, elementwise_affine=True)\n",
              "      (attn): MultiHeadSelfAttention(\n",
              "        (qkv): Linear(in_features=256, out_features=768, bias=True)\n",
              "        (proj): Linear(in_features=256, out_features=256, bias=True)\n",
              "        (dropout): Dropout(p=0.1, inplace=False)\n",
              "      )\n",
              "      (norm2): LayerNorm((256,), eps=1e-05, elementwise_affine=True)\n",
              "      (mlp): MLP(\n",
              "        (fc1): Linear(in_features=256, out_features=512, bias=True)\n",
              "        (drop): Dropout(p=0.1, inplace=False)\n",
              "        (fc2): Linear(in_features=512, out_features=256, bias=True)\n",
              "      )\n",
              "    )\n",
              "    (5): TransformerEncoderLayer(\n",
              "      (norm1): LayerNorm((256,), eps=1e-05, elementwise_affine=True)\n",
              "      (attn): MultiHeadSelfAttention(\n",
              "        (qkv): Linear(in_features=256, out_features=768, bias=True)\n",
              "        (proj): Linear(in_features=256, out_features=256, bias=True)\n",
              "        (dropout): Dropout(p=0.1, inplace=False)\n",
              "      )\n",
              "      (norm2): LayerNorm((256,), eps=1e-05, elementwise_affine=True)\n",
              "      (mlp): MLP(\n",
              "        (fc1): Linear(in_features=256, out_features=512, bias=True)\n",
              "        (drop): Dropout(p=0.1, inplace=False)\n",
              "        (fc2): Linear(in_features=512, out_features=256, bias=True)\n",
              "      )\n",
              "    )\n",
              "  )\n",
              "  (norm): LayerNorm((256,), eps=1e-05, elementwise_affine=True)\n",
              "  (head): Linear(in_features=256, out_features=10, bias=True)\n",
              ")"
            ]
          },
          "metadata": {},
          "execution_count": 14
        }
      ]
    },
    {
      "cell_type": "code",
      "source": [
        "criterion = nn.CrossEntropyLoss()\n",
        "optimizer = optim.Adam(params = model.parameters(), lr = LEARNING_RATE)"
      ],
      "metadata": {
        "id": "XNH9HtM5Oamw"
      },
      "execution_count": 15,
      "outputs": []
    },
    {
      "cell_type": "markdown",
      "source": [
        "### This function trains a PyTorch model for one epoch, updating weights, computing loss, and returning the average loss and accuracy."
      ],
      "metadata": {
        "id": "cDerRhymnDnK"
      }
    },
    {
      "cell_type": "code",
      "source": [
        "def train(model, loader, optimizer, criterion, scheduler=None):\n",
        "    model.train()  # Set model to training mode\n",
        "\n",
        "    total_loss = 0\n",
        "    total_correct = 0\n",
        "\n",
        "    for data, target in loader:\n",
        "        data, target = data.to(device), target.to(device)  # Move to GPU if available\n",
        "        optimizer.zero_grad()\n",
        "        out = model(data)\n",
        "        loss = criterion(out, target)\n",
        "        loss.backward()\n",
        "        optimizer.step()\n",
        "\n",
        "        total_loss += loss.item() * data.size(0)  # Accumulate loss\n",
        "        _, pred = torch.max(out.data, 1)          # Get predictions\n",
        "        total_correct += (pred == target).sum().item()  # Count correct predictions\n",
        "\n",
        "    # Return average loss and accuracy\n",
        "    return total_loss / len(loader.dataset), total_correct / len(loader.dataset)\n"
      ],
      "metadata": {
        "id": "pN5id-BfO6LM"
      },
      "execution_count": 16,
      "outputs": []
    },
    {
      "cell_type": "markdown",
      "source": [
        "### This function evaluates a PyTorch model on a dataset, returning its accuracy without updating the model’s weights."
      ],
      "metadata": {
        "id": "qXVIm83anUiO"
      }
    },
    {
      "cell_type": "code",
      "source": [
        "def evaluate(model, loader):\n",
        "    model.eval()  # Set model to evaluation mode (disables dropout, etc.)\n",
        "    correct = 0\n",
        "\n",
        "    with torch.inference_mode():  # Disable gradient computation for efficiency\n",
        "        for data, target in loader:\n",
        "            data, target = data.to(device), target.to(device)\n",
        "            out = model(data)\n",
        "            correct += (out.argmax(dim=1) == target).sum().item()  # Count correct predictions\n",
        "\n",
        "    return correct / len(loader.dataset)"
      ],
      "metadata": {
        "id": "1M4FMe5RQzo7"
      },
      "execution_count": 17,
      "outputs": []
    },
    {
      "cell_type": "markdown",
      "source": [
        "### This function trains a model for multiple epochs, tracks training and test accuracies, and prints progress after each epoch."
      ],
      "metadata": {
        "id": "mvi8H8V5nh_x"
      }
    },
    {
      "cell_type": "code",
      "source": [
        "def train_model(model, optimizer, criterion, epochs=15, scheduler=None):\n",
        "    train_accuracies = []\n",
        "    test_accuracies = []\n",
        "\n",
        "    for epoch in tqdm(range(epochs)):\n",
        "        # Train for one epoch\n",
        "        train_loss, train_acc = train(model, train_loader, optimizer, criterion, scheduler)\n",
        "\n",
        "        # Evaluate on test data\n",
        "        test_acc = evaluate(model, test_loader)\n",
        "\n",
        "        if scheduler:\n",
        "            scheduler.step()\n",
        "\n",
        "        # Store accuracies\n",
        "        train_accuracies.append(train_acc)\n",
        "        test_accuracies.append(test_acc)\n",
        "\n",
        "        # Print progress\n",
        "        print(f\"Epoch: {epoch+1}/{epochs}, Train Loss: {train_loss:.4f}, Train Acc: {train_acc:.4f}, Test Acc: {test_acc:.4f}\")\n",
        "\n",
        "    return train_accuracies, test_accuracies\n"
      ],
      "metadata": {
        "id": "6Ts-DV_9Reny"
      },
      "execution_count": 18,
      "outputs": []
    },
    {
      "cell_type": "code",
      "source": [
        "train_accuracies, test_accuracies = train_model(model, optimizer, criterion)"
      ],
      "metadata": {
        "id": "qvS3JWtncqhm",
        "colab": {
          "base_uri": "https://localhost:8080/",
          "height": 309,
          "referenced_widgets": [
            "ff99918cd93d4474acd9879134ba04cb",
            "a30892d2d61d43888c3108c207766997",
            "971a3e1d992b48debb6455155929626f",
            "b2194b1858b742d986a0e1ce75878d3e",
            "6e02e2a1a2be4dea87508e1c7e4be996",
            "df9cfd85fb17463f97e373bcfde8a7f0",
            "f1bbfdc651f7434e9885d75aa68be7ac",
            "3e07c408a2eb498aabc4ff0ae69ccca8",
            "63bf16ad7f5b44ee9881cfca5d351676",
            "93af60883ccf41b8a0dba57bc4a9a69f",
            "35d8846223e54dff9487c28218753c0c"
          ]
        },
        "outputId": "0c633d30-3f52-4fbc-fb9b-3367df4ca869"
      },
      "execution_count": 19,
      "outputs": [
        {
          "output_type": "display_data",
          "data": {
            "text/plain": [
              "  0%|          | 0/15 [00:00<?, ?it/s]"
            ],
            "application/vnd.jupyter.widget-view+json": {
              "version_major": 2,
              "version_minor": 0,
              "model_id": "ff99918cd93d4474acd9879134ba04cb"
            }
          },
          "metadata": {}
        },
        {
          "output_type": "stream",
          "name": "stdout",
          "text": [
            "Epoch: 1/15, Train Loss: 1.6108, Train Acc: 0.4131, Test Acc: 0.5183\n",
            "Epoch: 2/15, Train Loss: 1.2432, Train Acc: 0.5534, Test Acc: 0.5735\n",
            "Epoch: 3/15, Train Loss: 1.0959, Train Acc: 0.6078, Test Acc: 0.5854\n",
            "Epoch: 4/15, Train Loss: 0.9872, Train Acc: 0.6479, Test Acc: 0.6167\n",
            "Epoch: 5/15, Train Loss: 0.8945, Train Acc: 0.6801, Test Acc: 0.6433\n",
            "Epoch: 6/15, Train Loss: 0.8085, Train Acc: 0.7120, Test Acc: 0.6438\n",
            "Epoch: 7/15, Train Loss: 0.7214, Train Acc: 0.7448, Test Acc: 0.6549\n",
            "Epoch: 8/15, Train Loss: 0.6431, Train Acc: 0.7711, Test Acc: 0.6566\n",
            "Epoch: 9/15, Train Loss: 0.5636, Train Acc: 0.7996, Test Acc: 0.6558\n",
            "Epoch: 10/15, Train Loss: 0.4959, Train Acc: 0.8210, Test Acc: 0.6632\n",
            "Epoch: 11/15, Train Loss: 0.4234, Train Acc: 0.8481, Test Acc: 0.6628\n",
            "Epoch: 12/15, Train Loss: 0.3662, Train Acc: 0.8693, Test Acc: 0.6588\n",
            "Epoch: 13/15, Train Loss: 0.3097, Train Acc: 0.8887, Test Acc: 0.6583\n",
            "Epoch: 14/15, Train Loss: 0.2730, Train Acc: 0.9012, Test Acc: 0.6584\n",
            "Epoch: 15/15, Train Loss: 0.2381, Train Acc: 0.9149, Test Acc: 0.6548\n"
          ]
        }
      ]
    },
    {
      "cell_type": "markdown",
      "source": [
        "### Ploting the Epoch vs Accuracy for visualizing the trend"
      ],
      "metadata": {
        "id": "YaBufm13nu9l"
      }
    },
    {
      "cell_type": "code",
      "source": [
        "def Accuracy_plot(train_accuracies, test_accuracies):\n",
        "  plt.figure(figsize = (10,7))\n",
        "  plt.plot(train_accuracies, label = 'Train_accuracies')\n",
        "  plt.plot(test_accuracies, label = 'Test_accuracies')\n",
        "  plt.xlabel(\"Epochs\")\n",
        "  plt.ylabel(\"Accuracy\")\n",
        "  plt.legend()\n",
        "  plt.title(\"Trainig and Test Accuracy\")\n",
        "  plt.show()"
      ],
      "metadata": {
        "id": "S5nZYq7LSNSV"
      },
      "execution_count": 20,
      "outputs": []
    },
    {
      "cell_type": "code",
      "source": [
        "Accuracy_plot(train_accuracies, test_accuracies)"
      ],
      "metadata": {
        "id": "M7F1ZoHocvpf",
        "colab": {
          "base_uri": "https://localhost:8080/",
          "height": 641
        },
        "outputId": "ac98a9f6-8822-4c4c-b33f-b880343d5b40"
      },
      "execution_count": 21,
      "outputs": [
        {
          "output_type": "display_data",
          "data": {
            "text/plain": [
              "<Figure size 1000x700 with 1 Axes>"
            ],
            "image/png": "[encoded data removed]"
          },
          "metadata": {}
        }
      ]
    },
    {
      "cell_type": "markdown",
      "source": [
        "### Calculating the total accuracy considering the complete test datatset"
      ],
      "metadata": {
        "id": "Xcgw2MN1n6sB"
      }
    },
    {
      "cell_type": "code",
      "source": [
        "def total_test_accuracy(model):\n",
        "    overall_test_accuracy = None\n",
        "    total_correct = 0\n",
        "    model.eval()  # Set model to evaluation mode\n",
        "\n",
        "    for data, image in test_loader:\n",
        "        data, image = data.to(device), image.to(device)  # Move to GPU if available\n",
        "        out = model(data)\n",
        "        _, predicted = torch.max(out.data, 1)  # Get predicted class\n",
        "        total_correct += (predicted == image).sum().item()  # Count correct predictions\n",
        "\n",
        "    # Compute overall accuracy as a percentage\n",
        "    overall_test_accuracy = total_correct / len(test_loader.dataset)\n",
        "    return overall_test_accuracy * 100\n"
      ],
      "metadata": {
        "id": "eZW7LOpiSSCH"
      },
      "execution_count": 24,
      "outputs": []
    },
    {
      "cell_type": "code",
      "source": [
        "inital_accuracy = total_test_accuracy(model)\n",
        "inital_accuracy"
      ],
      "metadata": {
        "colab": {
          "base_uri": "https://localhost:8080/"
        },
        "id": "GZPJJXbHXCF_",
        "outputId": "fbde688d-f905-4d46-bb81-e7e8a7e3e189"
      },
      "execution_count": 25,
      "outputs": [
        {
          "output_type": "execute_result",
          "data": {
            "text/plain": [
              "65.48"
            ]
          },
          "metadata": {},
          "execution_count": 25
        }
      ]
    },
    {
      "cell_type": "markdown",
      "source": [
        "# Experiments"
      ],
      "metadata": {
        "id": "8AnKDpqwqsr7"
      }
    },
    {
      "cell_type": "markdown",
      "source": [
        "### 1. Let's apply some Data Augumentation technique"
      ],
      "metadata": {
        "id": "67spxDKkbeQP"
      }
    },
    {
      "cell_type": "code",
      "source": [
        "### Chaning transform variable\n",
        "transform_train = transforms.Compose([\n",
        "    transforms.RandomCrop(32, padding=4),\n",
        "    transforms.RandomHorizontalFlip(),\n",
        "    transforms.ColorJitter(brightness=0.2, contrast=0.2, saturation=0.2, hue=0.1),\n",
        "    transforms.ToTensor(),\n",
        "    transforms.Normalize(mean=[0.4914, 0.4822, 0.4465],\n",
        "                     std=[0.2023, 0.1994, 0.2010]) ## actual calculated statistics for the dataset\n",
        "])"
      ],
      "metadata": {
        "id": "5p84fZ73XFvA"
      },
      "execution_count": 26,
      "outputs": []
    },
    {
      "cell_type": "code",
      "source": [
        "train_dataset, test_dataset, train_loader, test_loader = load_data(transform_train)"
      ],
      "metadata": {
        "id": "UvWixy9Ddgd9"
      },
      "execution_count": 27,
      "outputs": []
    },
    {
      "cell_type": "code",
      "source": [
        "## Retraining the model\n",
        "model_2 = VisionTransformer(\n",
        "    IMAGE_SIZE, PATCH_SIZE, CHANNELS,NUM_CLASSES,\n",
        "    EMBED_DIM, DEPTH, NUM_HEAD, MLP_DIM, DROP_RATE\n",
        ").to(device)\n",
        "optimizer_2 = optim.Adam(params = model_2.parameters(), lr = LEARNING_RATE)"
      ],
      "metadata": {
        "id": "tl_B9orueuKN"
      },
      "execution_count": 28,
      "outputs": []
    },
    {
      "cell_type": "code",
      "source": [
        "epochs_model_2 = 15"
      ],
      "metadata": {
        "id": "dAuh5YL_l8oM"
      },
      "execution_count": 29,
      "outputs": []
    },
    {
      "cell_type": "code",
      "source": [
        "train_accuracies, test_accuracies = train_model(model_2, optimizer_2, criterion, epochs_model_2)"
      ],
      "metadata": {
        "colab": {
          "base_uri": "https://localhost:8080/",
          "height": 309,
          "referenced_widgets": [
            "7a220d056cc44163bb6184970067ba32",
            "398ef8996e64405b819485488a6d92ea",
            "36b927ac6eef425eab1d7b5df8322f21",
            "4ee46f62d3604ed6bf516491299bd142",
            "db1ffccf58b244f698a983c629cbf193",
            "16a3d5d272854a58873a9863ba1ee413",
            "09735bc24d21452e9e1ce35071b19c15",
            "b70a1ba885f047c5bbb28dc1826611db",
            "7184a509a1c54dbbb88661765cd26654",
            "39fb6ba8632543c8bf7e3ba186f60256",
            "65169b8c9b8344ae9d473daaf451e6da"
          ]
        },
        "id": "Xe8CuvZjfT50",
        "outputId": "9efc3da0-0be9-4567-999e-91dbf41bdb76"
      },
      "execution_count": 30,
      "outputs": [
        {
          "output_type": "display_data",
          "data": {
            "text/plain": [
              "  0%|          | 0/15 [00:00<?, ?it/s]"
            ],
            "application/vnd.jupyter.widget-view+json": {
              "version_major": 2,
              "version_minor": 0,
              "model_id": "7a220d056cc44163bb6184970067ba32"
            }
          },
          "metadata": {}
        },
        {
          "output_type": "stream",
          "name": "stdout",
          "text": [
            "Epoch: 1/15, Train Loss: 1.7761, Train Acc: 0.3445, Test Acc: 0.4398\n",
            "Epoch: 2/15, Train Loss: 1.4998, Train Acc: 0.4574, Test Acc: 0.4920\n",
            "Epoch: 3/15, Train Loss: 1.3945, Train Acc: 0.4986, Test Acc: 0.5046\n",
            "Epoch: 4/15, Train Loss: 1.3095, Train Acc: 0.5307, Test Acc: 0.5529\n",
            "Epoch: 5/15, Train Loss: 1.2454, Train Acc: 0.5532, Test Acc: 0.5677\n",
            "Epoch: 6/15, Train Loss: 1.1858, Train Acc: 0.5751, Test Acc: 0.5814\n",
            "Epoch: 7/15, Train Loss: 1.1342, Train Acc: 0.5939, Test Acc: 0.6058\n",
            "Epoch: 8/15, Train Loss: 1.0801, Train Acc: 0.6148, Test Acc: 0.6161\n",
            "Epoch: 9/15, Train Loss: 1.0427, Train Acc: 0.6282, Test Acc: 0.6399\n",
            "Epoch: 10/15, Train Loss: 1.0020, Train Acc: 0.6419, Test Acc: 0.6421\n",
            "Epoch: 11/15, Train Loss: 0.9763, Train Acc: 0.6528, Test Acc: 0.6563\n",
            "Epoch: 12/15, Train Loss: 0.9397, Train Acc: 0.6660, Test Acc: 0.6677\n",
            "Epoch: 13/15, Train Loss: 0.9093, Train Acc: 0.6753, Test Acc: 0.6753\n",
            "Epoch: 14/15, Train Loss: 0.8836, Train Acc: 0.6882, Test Acc: 0.6848\n",
            "Epoch: 15/15, Train Loss: 0.8493, Train Acc: 0.7000, Test Acc: 0.6912\n"
          ]
        }
      ]
    },
    {
      "cell_type": "code",
      "source": [
        "Accuracy_plot(train_accuracies, test_accuracies)"
      ],
      "metadata": {
        "colab": {
          "base_uri": "https://localhost:8080/",
          "height": 641
        },
        "id": "Z5H7l0a9fZp6",
        "outputId": "6c0c4f03-71cf-44da-98c6-1b12a063ece9"
      },
      "execution_count": 31,
      "outputs": [
        {
          "output_type": "display_data",
          "data": {
            "text/plain": [
              "<Figure size 1000x700 with 1 Axes>"
            ],
            "image/png": "[encoded data removed]"
          },
          "metadata": {}
        }
      ]
    },
    {
      "cell_type": "code",
      "source": [
        "augemented_data_accuracy = total_test_accuracy(model_2)\n",
        "augemented_data_accuracy"
      ],
      "metadata": {
        "colab": {
          "base_uri": "https://localhost:8080/"
        },
        "id": "6cfCqWQzivTu",
        "outputId": "50ed9bd8-bd87-4f9a-ef87-0ef48e362556"
      },
      "execution_count": 32,
      "outputs": [
        {
          "output_type": "execute_result",
          "data": {
            "text/plain": [
              "69.14"
            ]
          },
          "metadata": {},
          "execution_count": 32
        }
      ]
    },
    {
      "cell_type": "markdown",
      "source": [
        "### 2. Let's use the AdamW optimizer with a scheduler and augmented data."
      ],
      "metadata": {
        "id": "N4h1p2kAjAox"
      }
    },
    {
      "cell_type": "code",
      "source": [
        "epochs_model_3 = 15"
      ],
      "metadata": {
        "id": "e9LsrCkimIMD"
      },
      "execution_count": 33,
      "outputs": []
    },
    {
      "cell_type": "code",
      "source": [
        "model_3 = VisionTransformer(\n",
        "    IMAGE_SIZE, PATCH_SIZE, CHANNELS,NUM_CLASSES,\n",
        "    EMBED_DIM, DEPTH, NUM_HEAD, MLP_DIM, DROP_RATE\n",
        ").to(device)\n",
        "optimizer_3 = optim.AdamW(model_3.parameters(), lr=LEARNING_RATE, weight_decay=1e-5)\n",
        "scheduler = optim.lr_scheduler.CosineAnnealingLR(optimizer_3, T_max=epochs_model_3)\n",
        "criterion = nn.CrossEntropyLoss()"
      ],
      "metadata": {
        "id": "Ltc207_ni-87"
      },
      "execution_count": 34,
      "outputs": []
    },
    {
      "cell_type": "code",
      "source": [
        "train_accuracies, test_accuracies = train_model(model_3, optimizer_3, criterion, epochs_model_3, scheduler)"
      ],
      "metadata": {
        "id": "B0mogCmhkh4J",
        "colab": {
          "base_uri": "https://localhost:8080/",
          "height": 309,
          "referenced_widgets": [
            "733831a1fdbe463ab35353ca4955a09f",
            "656e1f13ff6d4b5ba1a30eb689236894",
            "2de63dacc7a948e8a6c17798aad9d3b3",
            "145bcb87b3434f898b7b8640cd52c4a4",
            "0d50689cf00a4dd19f1f3c0a0abeb525",
            "59c1080a25e74477a6ce4ab34f0b0ad0",
            "c8c215f3ebd84aa785e84b8f03d556ab",
            "68b2ce6ae5ef49d28226eea2d21770bf",
            "c17732eee6f1453999334fa9800956ce",
            "e45595768cf5412384b66090d31818fb",
            "238fbb2c17ad4fe5aa7d70986d3b8b93"
          ]
        },
        "outputId": "2fa7125c-7ab6-4c96-bb6b-45ff48dd9abf"
      },
      "execution_count": 35,
      "outputs": [
        {
          "output_type": "display_data",
          "data": {
            "text/plain": [
              "  0%|          | 0/15 [00:00<?, ?it/s]"
            ],
            "application/vnd.jupyter.widget-view+json": {
              "version_major": 2,
              "version_minor": 0,
              "model_id": "733831a1fdbe463ab35353ca4955a09f"
            }
          },
          "metadata": {}
        },
        {
          "output_type": "stream",
          "name": "stdout",
          "text": [
            "Epoch: 1/15, Train Loss: 1.7918, Train Acc: 0.3447, Test Acc: 0.4278\n",
            "Epoch: 2/15, Train Loss: 1.5094, Train Acc: 0.4568, Test Acc: 0.4858\n",
            "Epoch: 3/15, Train Loss: 1.3857, Train Acc: 0.4999, Test Acc: 0.5176\n",
            "Epoch: 4/15, Train Loss: 1.2891, Train Acc: 0.5382, Test Acc: 0.5545\n",
            "Epoch: 5/15, Train Loss: 1.2116, Train Acc: 0.5646, Test Acc: 0.5902\n",
            "Epoch: 6/15, Train Loss: 1.1518, Train Acc: 0.5888, Test Acc: 0.5956\n",
            "Epoch: 7/15, Train Loss: 1.0894, Train Acc: 0.6107, Test Acc: 0.6199\n",
            "Epoch: 8/15, Train Loss: 1.0442, Train Acc: 0.6270, Test Acc: 0.6351\n",
            "Epoch: 9/15, Train Loss: 0.9928, Train Acc: 0.6474, Test Acc: 0.6485\n",
            "Epoch: 10/15, Train Loss: 0.9560, Train Acc: 0.6600, Test Acc: 0.6651\n",
            "Epoch: 11/15, Train Loss: 0.9192, Train Acc: 0.6748, Test Acc: 0.6661\n",
            "Epoch: 12/15, Train Loss: 0.8855, Train Acc: 0.6852, Test Acc: 0.6779\n",
            "Epoch: 13/15, Train Loss: 0.8722, Train Acc: 0.6909, Test Acc: 0.6854\n",
            "Epoch: 14/15, Train Loss: 0.8524, Train Acc: 0.6974, Test Acc: 0.6891\n",
            "Epoch: 15/15, Train Loss: 0.8424, Train Acc: 0.6992, Test Acc: 0.6851\n"
          ]
        }
      ]
    },
    {
      "cell_type": "code",
      "source": [
        "Accuracy_plot(train_accuracies, test_accuracies)\n",
        "augumented_adamw_accuracy = total_test_accuracy(model_3)\n",
        "augumented_adamw_accuracy"
      ],
      "metadata": {
        "id": "_wLJEJz0kn0m",
        "colab": {
          "base_uri": "https://localhost:8080/",
          "height": 658
        },
        "outputId": "522c807a-ac09-43a2-8f9d-52676a634f9d"
      },
      "execution_count": 36,
      "outputs": [
        {
          "output_type": "display_data",
          "data": {
            "text/plain": [
              "<Figure size 1000x700 with 1 Axes>"
            ],
            "image/png": "[encoded data removed]"
          },
          "metadata": {}
        },
        {
          "output_type": "execute_result",
          "data": {
            "text/plain": [
              "69.28"
            ]
          },
          "metadata": {},
          "execution_count": 36
        }
      ]
    },
    {
      "cell_type": "markdown",
      "source": [
        "### 3. Let's do analysis with Overlapping Patches. Here we are using Adam instead of AdamW because we saw that it was giving less accuracy for same number of epochs"
      ],
      "metadata": {
        "id": "xbtOaLkalA3n"
      }
    },
    {
      "cell_type": "code",
      "source": [
        "epochs_model_4 = 20"
      ],
      "metadata": {
        "id": "R11QkDgPmWua"
      },
      "execution_count": 37,
      "outputs": []
    },
    {
      "cell_type": "code",
      "source": [
        "model_4 = VisionTransformer(\n",
        "    IMAGE_SIZE, PATCH_SIZE, CHANNELS,NUM_CLASSES,\n",
        "    EMBED_DIM, DEPTH, NUM_HEAD, MLP_DIM, DROP_RATE, stride = 2\n",
        ").to(device)\n",
        "optimizer_4 = optim.Adam(params = model_4.parameters(), lr = LEARNING_RATE)\n",
        "criterion = nn.CrossEntropyLoss()"
      ],
      "metadata": {
        "id": "JRQntcack8uN"
      },
      "execution_count": 38,
      "outputs": []
    },
    {
      "cell_type": "code",
      "source": [
        "train_accuracies, test_accuracies = train_model(model_4, optimizer_4, criterion, epochs_model_4)"
      ],
      "metadata": {
        "colab": {
          "base_uri": "https://localhost:8080/",
          "height": 648,
          "referenced_widgets": [
            "9c80daa636fd4b488cee826619a7b6e1",
            "23fd5b03f1c24b73a30e555ed655dc5b",
            "567072e817164eae927cc54b47c6dd71",
            "37339dc66d9c48c7b2f5f0c6553c32ea",
            "f90bcea358b84cd48e0f94a8f9ce3fe8",
            "c954e121eca04bc48a91000424143def",
            "57f23475a3744354b250d51bc76c1911",
            "e062487b3e264718a5205f27878a109b",
            "2dc45f30f05c4435ae5d3f69812dd30f",
            "2e69998539e046a89d95d9db494081fc",
            "5b6f038b1f564fc4a237fd1cc3e015b4"
          ]
        },
        "id": "-gLxdpVhScpq",
        "outputId": "5f1dc448-af10-44f7-9a18-43fc2d85e7da",
        "collapsed": true
      },
      "execution_count": 39,
      "outputs": [
        {
          "data": {
            "application/vnd.jupyter.widget-view+json": {
              "model_id": "9c80daa636fd4b488cee826619a7b6e1",
              "version_major": 2,
              "version_minor": 0
            },
            "text/plain": [
              "  0%|          | 0/20 [00:00<?, ?it/s]"
            ]
          },
          "metadata": {},
          "output_type": "display_data"
        },
        {
          "metadata": {
            "tags": null
          },
          "name": "stdout",
          "output_type": "stream",
          "text": [
            "Epoch: 1/20, Train Loss: 1.7769, Train Acc: 0.3459, Test Acc: 0.4405\n",
            "Epoch: 2/20, Train Loss: 1.4646, Train Acc: 0.4699, Test Acc: 0.5146\n",
            "Epoch: 3/20, Train Loss: 1.3007, Train Acc: 0.5350, Test Acc: 0.5624\n",
            "Epoch: 4/20, Train Loss: 1.1998, Train Acc: 0.5708, Test Acc: 0.5891\n",
            "Epoch: 5/20, Train Loss: 1.1092, Train Acc: 0.6038, Test Acc: 0.6151\n",
            "Epoch: 6/20, Train Loss: 1.0383, Train Acc: 0.6286, Test Acc: 0.6273\n",
            "Epoch: 7/20, Train Loss: 0.9798, Train Acc: 0.6542, Test Acc: 0.6672\n",
            "Epoch: 8/20, Train Loss: 0.9272, Train Acc: 0.6707, Test Acc: 0.6725\n",
            "Epoch: 9/20, Train Loss: 0.8908, Train Acc: 0.6834, Test Acc: 0.6941\n",
            "Epoch: 10/20, Train Loss: 0.8462, Train Acc: 0.6983, Test Acc: 0.6967\n",
            "Epoch: 11/20, Train Loss: 0.8144, Train Acc: 0.7124, Test Acc: 0.7169\n",
            "Epoch: 12/20, Train Loss: 0.7804, Train Acc: 0.7237, Test Acc: 0.7206\n",
            "Epoch: 13/20, Train Loss: 0.7562, Train Acc: 0.7324, Test Acc: 0.7270\n",
            "Epoch: 14/20, Train Loss: 0.7233, Train Acc: 0.7443, Test Acc: 0.7311\n",
            "Epoch: 15/20, Train Loss: 0.7044, Train Acc: 0.7507, Test Acc: 0.7427\n",
            "Epoch: 16/20, Train Loss: 0.6748, Train Acc: 0.7634, Test Acc: 0.7508\n",
            "Epoch: 17/20, Train Loss: 0.6589, Train Acc: 0.7669, Test Acc: 0.7497\n",
            "Epoch: 18/20, Train Loss: 0.6391, Train Acc: 0.7735, Test Acc: 0.7587\n",
            "Epoch: 19/20, Train Loss: 0.6192, Train Acc: 0.7819, Test Acc: 0.7640\n"
          ]
        },
        {
          "output_type": "error",
          "ename": "KeyboardInterrupt",
          "evalue": "",
          "traceback": [
            "\u001b[0;31m---------------------------------------------------------------------------\u001b[0m",
            "\u001b[0;31mKeyboardInterrupt\u001b[0m                         Traceback (most recent call last)",
            "\u001b[0;32m/tmp/ipython-input-517781363.py\u001b[0m in \u001b[0;36m<cell line: 0>\u001b[0;34m()\u001b[0m\n\u001b[0;32m----> 1\u001b[0;31m \u001b[0mtrain_accuracies\u001b[0m\u001b[0;34m,\u001b[0m \u001b[0mtest_accuracies\u001b[0m \u001b[0;34m=\u001b[0m \u001b[0mtrain_model\u001b[0m\u001b[0;34m(\u001b[0m\u001b[0mmodel_4\u001b[0m\u001b[0;34m,\u001b[0m \u001b[0moptimizer_4\u001b[0m\u001b[0;34m,\u001b[0m \u001b[0mcriterion\u001b[0m\u001b[0;34m,\u001b[0m \u001b[0mepochs_model_4\u001b[0m\u001b[0;34m)\u001b[0m\u001b[0;34m\u001b[0m\u001b[0;34m\u001b[0m\u001b[0m\n\u001b[0m",
            "\u001b[0;32m/tmp/ipython-input-2383680809.py\u001b[0m in \u001b[0;36mtrain_model\u001b[0;34m(model, optimizer, criterion, epochs, scheduler)\u001b[0m\n\u001b[1;32m      5\u001b[0m     \u001b[0;32mfor\u001b[0m \u001b[0mepoch\u001b[0m \u001b[0;32min\u001b[0m \u001b[0mtqdm\u001b[0m\u001b[0;34m(\u001b[0m\u001b[0mrange\u001b[0m\u001b[0;34m(\u001b[0m\u001b[0mepochs\u001b[0m\u001b[0;34m)\u001b[0m\u001b[0;34m)\u001b[0m\u001b[0;34m:\u001b[0m\u001b[0;34m\u001b[0m\u001b[0;34m\u001b[0m\u001b[0m\n\u001b[1;32m      6\u001b[0m         \u001b[0;31m# Train for one epoch\u001b[0m\u001b[0;34m\u001b[0m\u001b[0;34m\u001b[0m\u001b[0m\n\u001b[0;32m----> 7\u001b[0;31m         \u001b[0mtrain_loss\u001b[0m\u001b[0;34m,\u001b[0m \u001b[0mtrain_acc\u001b[0m \u001b[0;34m=\u001b[0m \u001b[0mtrain\u001b[0m\u001b[0;34m(\u001b[0m\u001b[0mmodel\u001b[0m\u001b[0;34m,\u001b[0m \u001b[0mtrain_loader\u001b[0m\u001b[0;34m,\u001b[0m \u001b[0moptimizer\u001b[0m\u001b[0;34m,\u001b[0m \u001b[0mcriterion\u001b[0m\u001b[0;34m,\u001b[0m \u001b[0mscheduler\u001b[0m\u001b[0;34m)\u001b[0m\u001b[0;34m\u001b[0m\u001b[0;34m\u001b[0m\u001b[0m\n\u001b[0m\u001b[1;32m      8\u001b[0m \u001b[0;34m\u001b[0m\u001b[0m\n\u001b[1;32m      9\u001b[0m         \u001b[0;31m# Evaluate on test data\u001b[0m\u001b[0;34m\u001b[0m\u001b[0;34m\u001b[0m\u001b[0m\n",
            "\u001b[0;32m/tmp/ipython-input-972778808.py\u001b[0m in \u001b[0;36mtrain\u001b[0;34m(model, loader, optimizer, criterion, scheduler)\u001b[0m\n\u001b[1;32m     13\u001b[0m         \u001b[0moptimizer\u001b[0m\u001b[0;34m.\u001b[0m\u001b[0mstep\u001b[0m\u001b[0;34m(\u001b[0m\u001b[0;34m)\u001b[0m\u001b[0;34m\u001b[0m\u001b[0;34m\u001b[0m\u001b[0m\n\u001b[1;32m     14\u001b[0m \u001b[0;34m\u001b[0m\u001b[0m\n\u001b[0;32m---> 15\u001b[0;31m         \u001b[0mtotal_loss\u001b[0m \u001b[0;34m+=\u001b[0m \u001b[0mloss\u001b[0m\u001b[0;34m.\u001b[0m\u001b[0mitem\u001b[0m\u001b[0;34m(\u001b[0m\u001b[0;34m)\u001b[0m \u001b[0;34m*\u001b[0m \u001b[0mdata\u001b[0m\u001b[0;34m.\u001b[0m\u001b[0msize\u001b[0m\u001b[0;34m(\u001b[0m\u001b[0;36m0\u001b[0m\u001b[0;34m)\u001b[0m  \u001b[0;31m# Accumulate loss\u001b[0m\u001b[0;34m\u001b[0m\u001b[0;34m\u001b[0m\u001b[0m\n\u001b[0m\u001b[1;32m     16\u001b[0m         \u001b[0m_\u001b[0m\u001b[0;34m,\u001b[0m \u001b[0mpred\u001b[0m \u001b[0;34m=\u001b[0m \u001b[0mtorch\u001b[0m\u001b[0;34m.\u001b[0m\u001b[0mmax\u001b[0m\u001b[0;34m(\u001b[0m\u001b[0mout\u001b[0m\u001b[0;34m.\u001b[0m\u001b[0mdata\u001b[0m\u001b[0;34m,\u001b[0m \u001b[0;36m1\u001b[0m\u001b[0;34m)\u001b[0m          \u001b[0;31m# Get predictions\u001b[0m\u001b[0;34m\u001b[0m\u001b[0;34m\u001b[0m\u001b[0m\n\u001b[1;32m     17\u001b[0m         \u001b[0mtotal_correct\u001b[0m \u001b[0;34m+=\u001b[0m \u001b[0;34m(\u001b[0m\u001b[0mpred\u001b[0m \u001b[0;34m==\u001b[0m \u001b[0mtarget\u001b[0m\u001b[0;34m)\u001b[0m\u001b[0;34m.\u001b[0m\u001b[0msum\u001b[0m\u001b[0;34m(\u001b[0m\u001b[0;34m)\u001b[0m\u001b[0;34m.\u001b[0m\u001b[0mitem\u001b[0m\u001b[0;34m(\u001b[0m\u001b[0;34m)\u001b[0m  \u001b[0;31m# Count correct predictions\u001b[0m\u001b[0;34m\u001b[0m\u001b[0;34m\u001b[0m\u001b[0m\n",
            "\u001b[0;31mKeyboardInterrupt\u001b[0m: "
          ]
        }
      ]
    },
    {
      "cell_type": "code",
      "source": [
        "Accuracy_plot(train_accuracies, test_accuracies)\n",
        "overlaped_patches_accuracy = total_test_accuracy(model_4)\n",
        "overlaped_patches_accuracy"
      ],
      "metadata": {
        "colab": {
          "base_uri": "https://localhost:8080/",
          "height": 658
        },
        "id": "QfVIk85hSjCD",
        "outputId": "c16d9c68-0c4e-4d2f-b281-e35d5ce10cff"
      },
      "execution_count": 40,
      "outputs": [
        {
          "output_type": "display_data",
          "data": {
            "text/plain": [
              "<Figure size 1000x700 with 1 Axes>"
            ],
            "image/png": "[encoded data removed]"
          },
          "metadata": {}
        },
        {
          "output_type": "execute_result",
          "data": {
            "text/plain": [
              "76.27000000000001"
            ]
          },
          "metadata": {},
          "execution_count": 40
        }
      ]
    },
    {
      "cell_type": "markdown",
      "source": [
        "# Summary"
      ],
      "metadata": {
        "id": "0Fo3WJZbPMnd"
      }
    },
    {
      "cell_type": "code",
      "source": [
        "import pandas as pd\n",
        "\n",
        "results = {\n",
        "    \"Experiment\": [\n",
        "        \"Baseline - Non Overlapping, No data augumentation (15 epochs)\",\n",
        "        \"With Data Augmentation (15 epochs)\",\n",
        "        \"Augmentation + AdamW + Scheduler (15 epochs)\",\n",
        "        \"Augmentation + Overlapping Patches + Adam (20 epochs)\"\n",
        "    ],\n",
        "    \"Test Accuracy (%)\": [\n",
        "        65.48,\n",
        "        69.14,\n",
        "        69.28,\n",
        "        76.27\n",
        "    ]\n",
        "}\n",
        "\n",
        "df = pd.DataFrame(results)\n",
        "from tabulate import tabulate\n",
        "print(tabulate(df, headers='keys', tablefmt='pretty', showindex=False))\n"
      ],
      "metadata": {
        "colab": {
          "base_uri": "https://localhost:8080/"
        },
        "id": "EFP5e-QQXXfU",
        "outputId": "7df25fea-aad6-4f03-82ef-f8736f16d1e3"
      },
      "execution_count": 42,
      "outputs": [
        {
          "output_type": "stream",
          "name": "stdout",
          "text": [
            "+---------------------------------------------------------------+-------------------+\n",
            "|                          Experiment                           | Test Accuracy (%) |\n",
            "+---------------------------------------------------------------+-------------------+\n",
            "| Baseline - Non Overlapping, No data augumentation (15 epochs) |       65.48       |\n",
            "|              With Data Augmentation (15 epochs)               |       69.14       |\n",
            "|         Augmentation + AdamW + Scheduler (15 epochs)          |       69.28       |\n",
            "|     Augmentation + Overlapping Patches + Adam (20 epochs)     |       76.27       |\n",
            "+---------------------------------------------------------------+-------------------+\n"
          ]
        }
      ]
    },
    {
      "cell_type": "markdown",
      "source": [
        "### Selecting random images from the dataset and predicted the label using our trained model"
      ],
      "metadata": {
        "id": "hpWjUVkNrPUX"
      }
    },
    {
      "cell_type": "code",
      "source": [
        "def predict_and_plot_grid(model,\n",
        "                          dataset,\n",
        "                          classes,\n",
        "                          grid_size=3):\n",
        "  model.eval()\n",
        "  fig, axes = plt.subplots(grid_size, grid_size, figsize=(9,9))\n",
        "  for i in range(grid_size):\n",
        "    for j in range(grid_size):\n",
        "      idx = random.randint(0, len(dataset)-1)\n",
        "      img, true_label = dataset[idx]\n",
        "      input_tensor = img.unsqueeze(dim = 0).to(device)\n",
        "      with torch.inference_mode():\n",
        "        output = model(input_tensor)\n",
        "        _, predicted = torch.max(output.data, 1)\n",
        "      img = img/2 + 0.5\n",
        "      npimg = img.cpu().numpy()\n",
        "      axes[i,j].imshow(np.transpose(npimg, (1,2,0)))\n",
        "      truth = classes[true_label] == classes[predicted.item()]\n",
        "      if truth:\n",
        "        color = 'g'\n",
        "      else:\n",
        "        color = 'r'\n",
        "\n",
        "      axes[i,j].set_title(f\"Truth : {classes[true_label]}\\n, Predicted: {classes[predicted.item()]}\", fontsize = 10, c = color)\n",
        "      axes[i,j].axis('off')\n",
        "  plt.tight_layout()\n",
        "  plt.show()"
      ],
      "metadata": {
        "id": "gCDjYt8XPmFG"
      },
      "execution_count": 22,
      "outputs": []
    },
    {
      "cell_type": "code",
      "source": [
        "predict_and_plot_grid(model_4, test_dataset, test_dataset.classes)"
      ],
      "metadata": {
        "colab": {
          "base_uri": "https://localhost:8080/",
          "height": 1000
        },
        "id": "eUdgE8N8SMH6",
        "outputId": "67dbd4c8-8476-4f9f-f635-f417e411b186"
      },
      "execution_count": 60,
      "outputs": [
        {
          "output_type": "stream",
          "name": "stderr",
          "text": [
            "WARNING:matplotlib.image:Clipping input data to the valid range for imshow with RGB data ([0..1] for floats or [0..255] for integers). Got range [-0.68545556..1.8085796].\n",
            "WARNING:matplotlib.image:Clipping input data to the valid range for imshow with RGB data ([0..1] for floats or [0..255] for integers). Got range [-0.71453285..1.1270342].\n",
            "WARNING:matplotlib.image:Clipping input data to the valid range for imshow with RGB data ([0..1] for floats or [0..255] for integers). Got range [-0.6369933..1.8768656].\n",
            "WARNING:matplotlib.image:Clipping input data to the valid range for imshow with RGB data ([0..1] for floats or [0..255] for integers). Got range [-0.7048404..1.3657247].\n",
            "WARNING:matplotlib.image:Clipping input data to the valid range for imshow with RGB data ([0..1] for floats or [0..255] for integers). Got range [-0.71453285..0.9331851].\n",
            "WARNING:matplotlib.image:Clipping input data to the valid range for imshow with RGB data ([0..1] for floats or [0..255] for integers). Got range [-0.6466857..0.83306515].\n",
            "WARNING:matplotlib.image:Clipping input data to the valid range for imshow with RGB data ([0..1] for floats or [0..255] for integers). Got range [-0.68545556..1.3695982].\n",
            "WARNING:matplotlib.image:Clipping input data to the valid range for imshow with RGB data ([0..1] for floats or [0..255] for integers). Got range [-0.63046..1.8768656].\n",
            "WARNING:matplotlib.image:Clipping input data to the valid range for imshow with RGB data ([0..1] for floats or [0..255] for integers). Got range [-0.71453285..1.8768656].\n"
          ]
        },
        {
          "output_type": "display_data",
          "data": {
            "text/plain": [
              "<Figure size 900x900 with 9 Axes>"
            ],
            "image/png": "[encoded data removed]"
          },
          "metadata": {}
        }
      ]
    },
    {
      "cell_type": "code",
      "source": [],
      "metadata": {
        "id": "DYZH6dW7kj25"
      },
      "execution_count": null,
      "outputs": []
    }
  ]
}